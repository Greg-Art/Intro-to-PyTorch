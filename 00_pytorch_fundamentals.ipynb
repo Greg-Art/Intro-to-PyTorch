{
 "cells": [
  {
   "cell_type": "markdown",
   "id": "51b067ae",
   "metadata": {},
   "source": [
    "### 1. Environment Verification \n",
    "\n"
   ]
  },
  {
   "cell_type": "code",
   "execution_count": 1,
   "id": "3e91c11a",
   "metadata": {},
   "outputs": [
    {
     "name": "stdout",
     "output_type": "stream",
     "text": [
      "PyTorch version: 2.6.0\n",
      "MPS backend built?   True\n",
      "MPS available?       True\n",
      "Tensor device: mps:0\n"
     ]
    }
   ],
   "source": [
    "import torch\n",
    "print(\"PyTorch version:\", torch.__version__)\n",
    "print(\"MPS backend built?  \", torch.backends.mps.is_built())\n",
    "print(\"MPS available?      \", torch.backends.mps.is_available())\n",
    "\n",
    "# quick device test\n",
    "device = torch.device(\"mps\")\n",
    "x = torch.randn(2,2).to(device)\n",
    "print(\"Tensor device:\", x.device)"
   ]
  },
  {
   "cell_type": "markdown",
   "id": "0c91540c",
   "metadata": {},
   "source": [
    "### 2. Device‐Selection Boilerplate \n",
    "\n"
   ]
  },
  {
   "cell_type": "code",
   "execution_count": 2,
   "id": "f2ed5120",
   "metadata": {},
   "outputs": [
    {
     "name": "stdout",
     "output_type": "stream",
     "text": [
      "Running on MPS (GPU)\n"
     ]
    }
   ],
   "source": [
    "import torch\n",
    "\n",
    "# 1) Check for MPS support (Apple GPU)\n",
    "if torch.backends.mps.is_available():\n",
    "    device = torch.device(\"mps\")    # GPU\n",
    "    print(\"Running on MPS (GPU)\")\n",
    "else:\n",
    "    device = torch.device(\"cpu\")    # CPU\n",
    "    print(\"Running on CPU\")\n",
    "\n"
   ]
  },
  {
   "cell_type": "code",
   "execution_count": 3,
   "id": "d4b88322",
   "metadata": {},
   "outputs": [
    {
     "name": "stdout",
     "output_type": "stream",
     "text": [
      "tensor([[0.5241, 0.5252, 0.6989],\n",
      "        [0.7180, 0.7311, 0.8910],\n",
      "        [0.4919, 0.8216, 0.3326],\n",
      "        [0.8718, 0.5150, 0.8954],\n",
      "        [0.2859, 0.9136, 0.7167]])\n"
     ]
    }
   ],
   "source": [
    "## testing torch \n",
    "\n",
    "x= torch.rand(5,3)\n",
    "print(x)"
   ]
  },
  {
   "cell_type": "markdown",
   "id": "b56a5210",
   "metadata": {},
   "source": [
    "### Importing relevant libraries \n"
   ]
  },
  {
   "cell_type": "code",
   "execution_count": 4,
   "id": "12792d1a",
   "metadata": {},
   "outputs": [],
   "source": [
    "import pandas as pd \n",
    "import numpy \n",
    "import matplotlib.pyplot"
   ]
  },
  {
   "cell_type": "markdown",
   "id": "19041663",
   "metadata": {},
   "source": [
    "### Introduction to Tensors "
   ]
  },
  {
   "cell_type": "markdown",
   "id": "f2383678",
   "metadata": {},
   "source": [
    "#### i. Creating Tensors Manually"
   ]
  },
  {
   "cell_type": "code",
   "execution_count": null,
   "id": "acb05786",
   "metadata": {},
   "outputs": [],
   "source": []
  },
  {
   "cell_type": "markdown",
   "id": "52242787",
   "metadata": {},
   "source": [
    "A tensor is a numeric representation of data. In python, we have quite a variety of tensors:\n",
    "\n",
    "- Scalar: These a zero dimension arrays or they have only magnitude \n",
    "- Vectors: These are 1-day array or these have magnitude and direction\n",
    "- Matrix: These are 2-d arrays or these are linear transformations or moves in the X and Y direction or even 3d coordinates sometime\n",
    "- Tensors: While the above are tensors, we usually refer to tensors are multi-dimensional arrays \n",
    "\n",
    "We will take a look at how to create each in Pytorch and we usually create this using torch.tensor()"
   ]
  },
  {
   "cell_type": "code",
   "execution_count": 5,
   "id": "d82055cf",
   "metadata": {},
   "outputs": [],
   "source": [
    "## creating a scalar \n",
    "\n",
    "scalar= torch.tensor(7)"
   ]
  },
  {
   "cell_type": "code",
   "execution_count": 6,
   "id": "4b74cc97",
   "metadata": {},
   "outputs": [
    {
     "name": "stdout",
     "output_type": "stream",
     "text": [
      "The value of the scalar is 7\n",
      "The item present in the scalar is 7\n",
      "The dimension of the scalar is 0\n"
     ]
    }
   ],
   "source": [
    "\n",
    "print(f\"The value of the scalar is {scalar}\")\n",
    "print(f\"The item present in the scalar is {scalar.item()}\")\n",
    "print(f\"The dimension of the scalar is {scalar.ndim}\")"
   ]
  },
  {
   "cell_type": "code",
   "execution_count": 7,
   "id": "7b30add3",
   "metadata": {},
   "outputs": [],
   "source": [
    "## creating a vector \n",
    "\n",
    "vector= torch.tensor([7,7])\n"
   ]
  },
  {
   "cell_type": "code",
   "execution_count": 8,
   "id": "d76fe8c0",
   "metadata": {},
   "outputs": [
    {
     "name": "stdout",
     "output_type": "stream",
     "text": [
      "The value of the vector is [7, 7]\n",
      "The dimension of the vector is 1\n",
      "The shape of the vector is torch.Size([2])\n"
     ]
    }
   ],
   "source": [
    "\n",
    "print(f\"The value of the vector is {vector.tolist()}\")\n",
    "print(f\"The dimension of the vector is {vector.ndim}\")\n",
    "print(f\"The shape of the vector is {vector.shape}\")\n",
    "\n"
   ]
  },
  {
   "cell_type": "code",
   "execution_count": 9,
   "id": "63f7d1c5",
   "metadata": {},
   "outputs": [],
   "source": [
    "##creating MATRIX\n",
    "\n",
    "MATRIX= torch.tensor([[7,9], [10,11]])\n",
    "\n",
    "\n"
   ]
  },
  {
   "cell_type": "code",
   "execution_count": 10,
   "id": "c1750bd8",
   "metadata": {},
   "outputs": [
    {
     "name": "stdout",
     "output_type": "stream",
     "text": [
      "The value of the vector is tensor([[ 7,  9],\n",
      "        [10, 11]])\n",
      "The dimension of the vector is 2\n",
      "The shape of the  matrix is torch.Size([2, 2])\n"
     ]
    }
   ],
   "source": [
    "\n",
    "print(f\"The value of the vector is {MATRIX}\")\n",
    "print(f\"The dimension of the vector is {MATRIX.ndim}\")\n",
    "print(f\"The shape of the  matrix is {MATRIX.shape}\")"
   ]
  },
  {
   "cell_type": "code",
   "execution_count": 11,
   "id": "d556de53",
   "metadata": {},
   "outputs": [
    {
     "data": {
      "text/plain": [
       "tensor([10, 11])"
      ]
     },
     "execution_count": 11,
     "metadata": {},
     "output_type": "execute_result"
    }
   ],
   "source": [
    "MATRIX[1]"
   ]
  },
  {
   "cell_type": "code",
   "execution_count": 12,
   "id": "c13d53f3",
   "metadata": {},
   "outputs": [],
   "source": [
    "###TENSOR\n",
    "\n",
    "TENSOR= torch.tensor([[[1,2,3,4,],[5,6,7,8],[9,10,11,2]]])"
   ]
  },
  {
   "cell_type": "code",
   "execution_count": 13,
   "id": "8d0f6b53",
   "metadata": {},
   "outputs": [
    {
     "name": "stdout",
     "output_type": "stream",
     "text": [
      "The value of the vector is tensor([[[ 1,  2,  3,  4],\n",
      "         [ 5,  6,  7,  8],\n",
      "         [ 9, 10, 11,  2]]])\n",
      "The dimension of the vector is 3\n",
      "The shape of the  matrix is torch.Size([1, 3, 4])\n"
     ]
    }
   ],
   "source": [
    "print(f\"The value of the vector is {TENSOR}\")\n",
    "print(f\"The dimension of the vector is {TENSOR.ndim}\")\n",
    "print(f\"The shape of the  matrix is {TENSOR.shape}\")\n"
   ]
  },
  {
   "cell_type": "markdown",
   "id": "76c389c0",
   "metadata": {},
   "source": [
    "#### ii. Generating Random Tensors\n",
    "\n",
    "- This is important as in neural networks, this allows us to assign random weights to our nerual networks, and then adjust the random numbers to better represent the data\n",
    "- To create a random tensor, we use the torch.rand and we spcify the number of rows, columns, depth(if 3d) and others with the numbers you input separated by a comma. \n",
    "- Please note, while creating your random tensors, the more numbers separated by a comma, the more dimension you add"
   ]
  },
  {
   "cell_type": "code",
   "execution_count": 14,
   "id": "34fc8a47",
   "metadata": {},
   "outputs": [],
   "source": [
    "##creating the random tensor in various dimensions\n",
    "\n",
    "random_tensor_2d= torch.rand(3,4)\n",
    "random_tensor_3d= torch.rand(3,4,4)\n",
    "random_tensor_4d= torch.rand(3,4,4,5)"
   ]
  },
  {
   "cell_type": "code",
   "execution_count": 15,
   "id": "b40aeeef",
   "metadata": {},
   "outputs": [
    {
     "name": "stdout",
     "output_type": "stream",
     "text": [
      "tensor([[0.4852, 0.5467, 0.4983, 0.4698],\n",
      "        [0.4621, 0.8518, 0.6378, 0.8971],\n",
      "        [0.1990, 0.0430, 0.6494, 0.1732]])\n",
      "tensor([[[0.1993, 0.2713, 0.3496, 0.5201],\n",
      "         [0.5649, 0.6697, 0.3590, 0.2970],\n",
      "         [0.9096, 0.2562, 0.2980, 0.8302],\n",
      "         [0.2144, 0.1365, 0.0077, 0.3371]],\n",
      "\n",
      "        [[0.3487, 0.4855, 0.8208, 0.5824],\n",
      "         [0.8617, 0.4473, 0.7042, 0.6486],\n",
      "         [0.9583, 0.8971, 0.7740, 0.2501],\n",
      "         [0.8133, 0.0335, 0.3756, 0.0494]],\n",
      "\n",
      "        [[0.9023, 0.2461, 0.9904, 0.2282],\n",
      "         [0.8455, 0.6527, 0.3542, 0.6737],\n",
      "         [0.9753, 0.8877, 0.8925, 0.9533],\n",
      "         [0.3746, 0.5614, 0.4980, 0.3928]]])\n",
      "tensor([[[[0.1011, 0.5028, 0.6171, 0.1331, 0.2831],\n",
      "          [0.8947, 0.7158, 0.4195, 0.3658, 0.5073],\n",
      "          [0.0367, 0.3864, 0.2363, 0.7371, 0.7482],\n",
      "          [0.0632, 0.2016, 0.0878, 0.6703, 0.4360]],\n",
      "\n",
      "         [[0.6208, 0.5633, 0.0556, 0.8235, 0.1631],\n",
      "          [0.8506, 0.8566, 0.0691, 0.0228, 0.3286],\n",
      "          [0.3619, 0.8117, 0.3149, 0.6240, 0.2496],\n",
      "          [0.5745, 0.4033, 0.5276, 0.4151, 0.8524]],\n",
      "\n",
      "         [[0.2105, 0.3886, 0.5939, 0.3997, 0.3596],\n",
      "          [0.9317, 0.1945, 0.3632, 0.3154, 0.0096],\n",
      "          [0.1265, 0.7764, 0.0756, 0.2085, 0.9613],\n",
      "          [0.6444, 0.8507, 0.6273, 0.5868, 0.9552]],\n",
      "\n",
      "         [[0.2865, 0.1749, 0.5541, 0.1601, 0.8665],\n",
      "          [0.0779, 0.1144, 0.5844, 0.2282, 0.2924],\n",
      "          [0.3058, 0.0704, 0.6670, 0.7114, 0.8270],\n",
      "          [0.4214, 0.4056, 0.2758, 0.9170, 0.8947]]],\n",
      "\n",
      "\n",
      "        [[[0.5536, 0.5075, 0.5401, 0.7177, 0.7618],\n",
      "          [0.8299, 0.5650, 0.1143, 0.4389, 0.6792],\n",
      "          [0.2581, 0.0495, 0.9463, 0.9435, 0.2188],\n",
      "          [0.2528, 0.1741, 0.1281, 0.6013, 0.6814]],\n",
      "\n",
      "         [[0.4382, 0.8064, 0.6744, 0.5658, 0.4751],\n",
      "          [0.7338, 0.1022, 0.5896, 0.8738, 0.3048],\n",
      "          [0.7877, 0.9889, 0.4644, 0.9304, 0.4311],\n",
      "          [0.6310, 0.3475, 0.4940, 0.4709, 0.0326]],\n",
      "\n",
      "         [[0.5237, 0.7502, 0.6280, 0.8460, 0.7370],\n",
      "          [0.6582, 0.4577, 0.1119, 0.3116, 0.6552],\n",
      "          [0.7751, 0.7197, 0.1045, 0.2296, 0.5463],\n",
      "          [0.7492, 0.3966, 0.1923, 0.6805, 0.6085]],\n",
      "\n",
      "         [[0.6548, 0.7892, 0.3292, 0.1328, 0.0633],\n",
      "          [0.0921, 0.0327, 0.2059, 0.0886, 0.7659],\n",
      "          [0.0985, 0.4955, 0.8170, 0.1414, 0.9085],\n",
      "          [0.4418, 0.6665, 0.2206, 0.3778, 0.5633]]],\n",
      "\n",
      "\n",
      "        [[[0.3290, 0.3204, 0.1356, 0.3261, 0.9503],\n",
      "          [0.0219, 0.2566, 0.2064, 0.7648, 0.1258],\n",
      "          [0.9256, 0.7134, 0.6659, 0.2557, 0.2323],\n",
      "          [0.7517, 0.2116, 0.1226, 0.5888, 0.6337]],\n",
      "\n",
      "         [[0.5429, 0.0045, 0.1027, 0.5056, 0.3384],\n",
      "          [0.6343, 0.6880, 0.9372, 0.9576, 0.5320],\n",
      "          [0.6080, 0.8021, 0.0266, 0.4032, 0.9675],\n",
      "          [0.1108, 0.3231, 0.6590, 0.8445, 0.6101]],\n",
      "\n",
      "         [[0.7056, 0.5336, 0.6743, 0.9688, 0.9942],\n",
      "          [0.2153, 0.1058, 0.5004, 0.1616, 0.1447],\n",
      "          [0.0443, 0.3893, 0.4910, 0.1108, 0.6866],\n",
      "          [0.7291, 0.2782, 0.4533, 0.2654, 0.8186]],\n",
      "\n",
      "         [[0.7508, 0.2904, 0.1613, 0.0828, 0.0313],\n",
      "          [0.1881, 0.9637, 0.6453, 0.5472, 0.9696],\n",
      "          [0.6434, 0.6058, 0.8337, 0.3630, 0.6182],\n",
      "          [0.6195, 0.2482, 0.5767, 0.2487, 0.8913]]]])\n"
     ]
    }
   ],
   "source": [
    "print(random_tensor_2d)\n",
    "print(random_tensor_3d)\n",
    "print(random_tensor_4d)\n"
   ]
  },
  {
   "cell_type": "code",
   "execution_count": 16,
   "id": "ad94e8b1",
   "metadata": {},
   "outputs": [
    {
     "name": "stdout",
     "output_type": "stream",
     "text": [
      "2\n",
      "3\n",
      "4\n"
     ]
    }
   ],
   "source": [
    "print(random_tensor_2d.ndim)\n",
    "print(random_tensor_3d.ndim)\n",
    "print(random_tensor_4d.ndim)\n",
    "\n",
    "##sp from this code, it means we specify the dimension of the "
   ]
  },
  {
   "cell_type": "markdown",
   "id": "e5eb6300",
   "metadata": {},
   "source": [
    "### iii.Generating Zeros and Ones"
   ]
  },
  {
   "cell_type": "code",
   "execution_count": 17,
   "id": "4700d57f",
   "metadata": {},
   "outputs": [
    {
     "name": "stdout",
     "output_type": "stream",
     "text": [
      "tensor([[0., 0., 0., 0.],\n",
      "        [0., 0., 0., 0.],\n",
      "        [0., 0., 0., 0.]])\n"
     ]
    }
   ],
   "source": [
    "zeros= torch.zeros((3,4))\n",
    "print(zeros)"
   ]
  },
  {
   "cell_type": "code",
   "execution_count": 18,
   "id": "cd719776",
   "metadata": {},
   "outputs": [
    {
     "name": "stdout",
     "output_type": "stream",
     "text": [
      "tensor([[1., 1., 1., 1., 1., 1.],\n",
      "        [1., 1., 1., 1., 1., 1.],\n",
      "        [1., 1., 1., 1., 1., 1.],\n",
      "        [1., 1., 1., 1., 1., 1.],\n",
      "        [1., 1., 1., 1., 1., 1.]])\n"
     ]
    }
   ],
   "source": [
    "ones= torch.ones((5,6))\n",
    "print(ones)"
   ]
  },
  {
   "cell_type": "code",
   "execution_count": 19,
   "id": "1489f82f",
   "metadata": {},
   "outputs": [
    {
     "name": "stdout",
     "output_type": "stream",
     "text": [
      "tensor([ 5,  7,  9, 11, 13, 15, 17, 19])\n"
     ]
    }
   ],
   "source": [
    "arange_ten= torch.arange(5,20,2)\n",
    "print(arange_ten)\n",
    "\n"
   ]
  },
  {
   "cell_type": "code",
   "execution_count": 20,
   "id": "ef90e77a",
   "metadata": {},
   "outputs": [
    {
     "name": "stdout",
     "output_type": "stream",
     "text": [
      "tensor([0, 0, 0, 0, 0, 0, 0, 0])\n"
     ]
    }
   ],
   "source": [
    "##creating tensors like other tensors but with zeros \n",
    "\n",
    "ten_zeros= torch.zeros_like(arange_ten)\n",
    "print(ten_zeros)"
   ]
  },
  {
   "cell_type": "markdown",
   "id": "af450a18",
   "metadata": {},
   "source": [
    "### Tensor Data Types \n",
    "\n",
    "- 32: Single Precision\n",
    "- 16 bit: Half Precision\n",
    "\n",
    "Top 3 Errors in Pytorch and Deep Learning: \n",
    "\n",
    "1. Tensor not right datatype\n",
    "2. Tensor not right shape \n",
    "3. Tensor not on the right device"
   ]
  },
  {
   "cell_type": "code",
   "execution_count": 21,
   "id": "8be47e30",
   "metadata": {},
   "outputs": [
    {
     "data": {
      "text/plain": [
       "torch.float32"
      ]
     },
     "execution_count": 21,
     "metadata": {},
     "output_type": "execute_result"
    }
   ],
   "source": [
    "float_32_tensor= torch.tensor([2,3,4], dtype=torch.float32)\n",
    "float_32_tensor.dtype\n",
    "\n"
   ]
  },
  {
   "cell_type": "code",
   "execution_count": 22,
   "id": "0e7bfe98",
   "metadata": {},
   "outputs": [
    {
     "data": {
      "text/plain": [
       "torch.float16"
      ]
     },
     "execution_count": 22,
     "metadata": {},
     "output_type": "execute_result"
    }
   ],
   "source": [
    "## to change the dtype\n",
    "\n",
    "float_16_tensor= float_32_tensor.type(torch.float16)\n",
    "float_16_tensor.dtype"
   ]
  },
  {
   "cell_type": "markdown",
   "id": "83c8a1d9",
   "metadata": {},
   "source": [
    "### To get information from Tensor"
   ]
  },
  {
   "cell_type": "code",
   "execution_count": 23,
   "id": "c11ac73b",
   "metadata": {},
   "outputs": [
    {
     "data": {
      "text/plain": [
       "tensor([[0.8410, 0.3610, 0.8895, 0.3536, 0.4903],\n",
       "        [0.4227, 0.1400, 0.8536, 0.1629, 0.9681],\n",
       "        [0.3486, 0.7222, 0.7141, 0.0631, 0.1488],\n",
       "        [0.6391, 0.3087, 0.9752, 0.6452, 0.8846]])"
      ]
     },
     "execution_count": 23,
     "metadata": {},
     "output_type": "execute_result"
    }
   ],
   "source": [
    "## finding some details about tensor \n",
    "\n",
    "some_tensor= torch.rand((4,5))\n",
    "some_tensor"
   ]
  },
  {
   "cell_type": "markdown",
   "id": "026dde37",
   "metadata": {},
   "source": [
    "## personal exercise "
   ]
  },
  {
   "cell_type": "markdown",
   "id": "bb9b586b",
   "metadata": {},
   "source": [
    "### Q1 \n",
    "\n",
    "i. Create a random tensor 3 rows and 4 columns, \n",
    "\n",
    "ii. Extract information such as it's size, it's device, and it's shape \n",
    "\n",
    "iii. Change the device from CPU to GPU  \n",
    "\n",
    "iv. Also, change its dtype to float 16\n",
    "\n",
    "\n"
   ]
  },
  {
   "cell_type": "markdown",
   "id": "8fcc8c27",
   "metadata": {},
   "source": [
    "##### i. Creating the tensor"
   ]
  },
  {
   "cell_type": "code",
   "execution_count": 24,
   "id": "5a445b2a",
   "metadata": {},
   "outputs": [],
   "source": [
    "rand_tens= torch.rand([3,4])\n"
   ]
  },
  {
   "cell_type": "markdown",
   "id": "aec98676",
   "metadata": {},
   "source": [
    "#### ii. Extracting Requested Data "
   ]
  },
  {
   "cell_type": "code",
   "execution_count": 25,
   "id": "16a61389",
   "metadata": {},
   "outputs": [
    {
     "name": "stdout",
     "output_type": "stream",
     "text": [
      "The Shape of this tensor is torch.Size([3, 4])\n",
      "The Size of this tensor is torch.Size([3, 4])\n",
      "The device of this tensor is cpu\n",
      "The datatype of this tensor is torch.float32\n"
     ]
    }
   ],
   "source": [
    "print(f\"The Shape of this tensor is {rand_tens.shape}\")\n",
    "print(f\"The Size of this tensor is {rand_tens.size()}\")\n",
    "print(f\"The device of this tensor is {rand_tens.device}\")\n",
    "print(f\"The datatype of this tensor is {rand_tens.dtype}\")"
   ]
  },
  {
   "cell_type": "markdown",
   "id": "53848d78",
   "metadata": {},
   "source": [
    "#### iii. Changing from CPU to mps "
   ]
  },
  {
   "cell_type": "code",
   "execution_count": 26,
   "id": "e2398668",
   "metadata": {},
   "outputs": [],
   "source": [
    "mps= torch.device('mps')\n",
    "rand_tens_mps=rand_tens.to(mps)\n"
   ]
  },
  {
   "cell_type": "code",
   "execution_count": 27,
   "id": "e330389d",
   "metadata": {},
   "outputs": [
    {
     "name": "stdout",
     "output_type": "stream",
     "text": [
      "The device of this tensor is mps:0\n"
     ]
    }
   ],
   "source": [
    "print(f\"The device of this tensor is {rand_tens_mps.device}\")\n"
   ]
  },
  {
   "cell_type": "markdown",
   "id": "00bb8615",
   "metadata": {},
   "source": [
    "#### iv. Changing its Dtype"
   ]
  },
  {
   "cell_type": "code",
   "execution_count": 28,
   "id": "6eff311f",
   "metadata": {},
   "outputs": [
    {
     "data": {
      "text/plain": [
       "torch.float16"
      ]
     },
     "execution_count": 28,
     "metadata": {},
     "output_type": "execute_result"
    }
   ],
   "source": [
    "rand_tens=rand_tens.to(torch.float16)\n",
    "rand_tens.dtype"
   ]
  },
  {
   "cell_type": "markdown",
   "id": "44f9f78b",
   "metadata": {},
   "source": [
    "## Tensor Operations (Manipulating Tensors)\n",
    "\n",
    "We can perform the following operations with tensors:\n",
    "\n",
    "- Addition\n",
    "- Substraction\n",
    "- Multiplication\n",
    "- Division\n",
    "- Matrix Multiplicaton"
   ]
  },
  {
   "cell_type": "code",
   "execution_count": 29,
   "id": "aa420918",
   "metadata": {},
   "outputs": [
    {
     "data": {
      "text/plain": [
       "tensor([12, 13, 14, 20, 25])"
      ]
     },
     "execution_count": 29,
     "metadata": {},
     "output_type": "execute_result"
    }
   ],
   "source": [
    "## addition\n",
    "\n",
    "t1= torch.tensor([2,3,4,10,15])\n",
    "\n",
    "t1+10"
   ]
  },
  {
   "cell_type": "code",
   "execution_count": 30,
   "id": "46128540",
   "metadata": {},
   "outputs": [
    {
     "data": {
      "text/plain": [
       "tensor([22, 23, 24, 30, 35])"
      ]
     },
     "execution_count": 30,
     "metadata": {},
     "output_type": "execute_result"
    }
   ],
   "source": [
    "torch.add(t1, 20)"
   ]
  },
  {
   "cell_type": "code",
   "execution_count": 31,
   "id": "a4715a59",
   "metadata": {},
   "outputs": [
    {
     "data": {
      "text/plain": [
       "tensor([ 2,  3, -2, -3, -4])"
      ]
     },
     "execution_count": 31,
     "metadata": {},
     "output_type": "execute_result"
    }
   ],
   "source": [
    "### Substraction\n",
    "\n",
    "t2= torch.tensor([7,8,3,2,1])\n",
    "\n",
    "t2-5"
   ]
  },
  {
   "cell_type": "code",
   "execution_count": 32,
   "id": "1a387960",
   "metadata": {},
   "outputs": [
    {
     "data": {
      "text/plain": [
       "tensor([200, 300, 400, 500])"
      ]
     },
     "execution_count": 32,
     "metadata": {},
     "output_type": "execute_result"
    }
   ],
   "source": [
    "## multiplication\n",
    "\n",
    "t3= torch.tensor([10,15,20,25])\n",
    "\n",
    "t3*20"
   ]
  },
  {
   "cell_type": "code",
   "execution_count": 33,
   "id": "eb2d166d",
   "metadata": {},
   "outputs": [
    {
     "data": {
      "text/plain": [
       "tensor([100, 150, 200, 250])"
      ]
     },
     "execution_count": 33,
     "metadata": {},
     "output_type": "execute_result"
    }
   ],
   "source": [
    "torch.mul(t3,10)"
   ]
  },
  {
   "cell_type": "code",
   "execution_count": 34,
   "id": "a2bac8e0",
   "metadata": {},
   "outputs": [
    {
     "data": {
      "text/plain": [
       "tensor([6., 7., 9., 2.])"
      ]
     },
     "execution_count": 34,
     "metadata": {},
     "output_type": "execute_result"
    }
   ],
   "source": [
    "##division\n",
    "\n",
    "t4= torch.tensor([60,70,90,20], dtype=torch.int32)\n",
    "t4/10"
   ]
  },
  {
   "cell_type": "markdown",
   "id": "26bdf34a",
   "metadata": {},
   "source": [
    "#### Matrix Multiplication"
   ]
  },
  {
   "cell_type": "markdown",
   "id": "c62da685",
   "metadata": {},
   "source": [
    "From linear algebra, we have 2 or 3 types of matrix multiplication:\n",
    "\n",
    "- Hadaman product: element-wise multiplication where both matrices have the same shape \n",
    "- Matrix multiplication \n",
    "- Dot Product \n",
    "- Also note that for every shape (x,y), x is the rows, and y is the column-- this should help us later on "
   ]
  },
  {
   "cell_type": "code",
   "execution_count": 35,
   "id": "f3ffc2c6",
   "metadata": {},
   "outputs": [
    {
     "data": {
      "text/plain": [
       "tensor([[22, 16, 85],\n",
       "        [18, 16, 25],\n",
       "        [49, 64, 81]])"
      ]
     },
     "execution_count": 35,
     "metadata": {},
     "output_type": "execute_result"
    }
   ],
   "source": [
    "### Hamdaman Product: This is similar to the usual multiplication we do; however, the shape of both tensors should the same\n",
    "\n",
    "t11= torch.tensor([[2,4,5],[2,4,5], [7,8,9]])\n",
    "t12= torch.tensor([[11,4,17],[9,4,5], [7,8,9]])\n",
    "\n",
    "t11*t12"
   ]
  },
  {
   "cell_type": "code",
   "execution_count": 36,
   "id": "9d0cc93c",
   "metadata": {},
   "outputs": [],
   "source": [
    "import time"
   ]
  },
  {
   "cell_type": "code",
   "execution_count": 37,
   "id": "ead0256c",
   "metadata": {},
   "outputs": [
    {
     "data": {
      "text/plain": [
       "tensor([[93, 64, 99],\n",
       "        [93, 64, 99]])"
      ]
     },
     "execution_count": 37,
     "metadata": {},
     "output_type": "execute_result"
    }
   ],
   "source": [
    "### Matrix Multiplication: The column of the first matrix  must be equal to that of the row of the last matrix  \n",
    "\n",
    "t11= torch.tensor([[2,4,5],[2,4,5]])\n",
    "t12= torch.tensor([[11,4,17],[9,4,5],[7,8,9]])\n",
    "\n",
    "torch.matmul(t11,t12)"
   ]
  },
  {
   "cell_type": "markdown",
   "id": "c01b35ca",
   "metadata": {},
   "source": [
    "### Adjusting Tensor shapes with Transpose for Matrix Multiplications\n",
    "\n",
    "- ***Note***: A tranpose switches the rows and makes them columns and makes the column rows "
   ]
  },
  {
   "cell_type": "code",
   "execution_count": 38,
   "id": "55b2ec8e",
   "metadata": {},
   "outputs": [],
   "source": [
    "tensor_A= torch.tensor([[34,5,6,3], [3,2,5,6], [7,8,9,10]])\n",
    "tensor_B= torch.tensor([[4,5,6,3], [9,9,9,10], [12,8,9,10]])"
   ]
  },
  {
   "cell_type": "code",
   "execution_count": 39,
   "id": "689fbf6a",
   "metadata": {},
   "outputs": [],
   "source": [
    "##uncomment to run the code, it won't work, I am commenting it out to ensure I can run all cells later on\n",
    "\n",
    "##code below\n",
    "\n",
    "##torch.matmul(tensor_A,tensor_B)"
   ]
  },
  {
   "cell_type": "markdown",
   "id": "eed9c9b3",
   "metadata": {},
   "source": [
    "- We will try to transpose tensor_B to change it's shape to 4,3.\n",
    "- Remeber transpose makes the column rows and makes the rows column"
   ]
  },
  {
   "cell_type": "code",
   "execution_count": 40,
   "id": "993d40ae",
   "metadata": {},
   "outputs": [
    {
     "name": "stdout",
     "output_type": "stream",
     "text": [
      "tensor([[ 4,  5,  6,  3],\n",
      "        [ 9,  9,  9, 10],\n",
      "        [12,  8,  9, 10]])\n",
      "torch.Size([3, 4])\n"
     ]
    }
   ],
   "source": [
    "## printing tensor_B and its shape \n",
    "print(tensor_B)\n",
    "print(tensor_B.shape)\n"
   ]
  },
  {
   "cell_type": "code",
   "execution_count": 41,
   "id": "87b66b01",
   "metadata": {},
   "outputs": [
    {
     "name": "stdout",
     "output_type": "stream",
     "text": [
      "tensor([[ 4,  9, 12],\n",
      "        [ 5,  9,  8],\n",
      "        [ 6,  9,  9],\n",
      "        [ 3, 10, 10]])\n",
      "torch.Size([4, 3])\n"
     ]
    }
   ],
   "source": [
    "## printing tensor_B\n",
    "print(tensor_B.T)\n",
    "print(tensor_B.T.shape)"
   ]
  },
  {
   "cell_type": "code",
   "execution_count": null,
   "id": "d0481a90",
   "metadata": {},
   "outputs": [],
   "source": []
  },
  {
   "cell_type": "code",
   "execution_count": 42,
   "id": "4e9235ac",
   "metadata": {},
   "outputs": [
    {
     "data": {
      "text/plain": [
       "tensor([[206, 435, 532],\n",
       "        [ 70, 150, 157],\n",
       "        [152, 316, 329]])"
      ]
     },
     "execution_count": 42,
     "metadata": {},
     "output_type": "execute_result"
    }
   ],
   "source": [
    "##now we will multiply tensor_a and the transpose of tensor_B\n",
    "torch.matmul(tensor_A,tensor_B.T)"
   ]
  },
  {
   "cell_type": "markdown",
   "id": "ae3d0153",
   "metadata": {},
   "source": [
    "## Tensor Aggregation:\n",
    "\n",
    "In this section, we will take a look at how to find the: \n",
    "\n",
    "- Mean\n",
    "- Min\n",
    "- Max\n",
    "- Sum and other values from a tensor"
   ]
  },
  {
   "cell_type": "code",
   "execution_count": 43,
   "id": "da479090",
   "metadata": {},
   "outputs": [],
   "source": [
    "## Mean \n",
    "\n",
    "tensor_4_agg= torch.tensor([2,4,5,3], dtype=float)"
   ]
  },
  {
   "cell_type": "code",
   "execution_count": 44,
   "id": "572c8018",
   "metadata": {},
   "outputs": [
    {
     "name": "stdout",
     "output_type": "stream",
     "text": [
      "tensor(3.5000, dtype=torch.float64)\n"
     ]
    }
   ],
   "source": [
    "tensor_mean= torch.mean(tensor_4_agg)\n",
    "print(tensor_mean)"
   ]
  },
  {
   "cell_type": "code",
   "execution_count": 45,
   "id": "f7ed0a4f",
   "metadata": {},
   "outputs": [
    {
     "name": "stdout",
     "output_type": "stream",
     "text": [
      "tensor(5., dtype=torch.float64)\n"
     ]
    }
   ],
   "source": [
    "##finding the max\n",
    "\n",
    "tensor_max= torch.max(tensor_4_agg)\n",
    "print(tensor_max)"
   ]
  },
  {
   "cell_type": "code",
   "execution_count": 46,
   "id": "2ac937a5",
   "metadata": {},
   "outputs": [
    {
     "name": "stdout",
     "output_type": "stream",
     "text": [
      "tensor(14., dtype=torch.float64)\n"
     ]
    }
   ],
   "source": [
    "##finding the sum\n",
    "tensor_sum= torch.sum(tensor_4_agg)\n",
    "print(tensor_sum)"
   ]
  },
  {
   "cell_type": "markdown",
   "id": "becacba5",
   "metadata": {},
   "source": [
    "### Finding Positional Min (argmin) and Max (argmax)\n",
    "\n",
    "- The argmin gives us the position (index) of the least value from a list of probabilities \n",
    "- The argmax gives us the position (index)  of the highest value from a list of probabilities "
   ]
  },
  {
   "cell_type": "code",
   "execution_count": 47,
   "id": "4efd54f6",
   "metadata": {},
   "outputs": [
    {
     "data": {
      "text/plain": [
       "tensor([2., 4., 5., 3.], dtype=torch.float64)"
      ]
     },
     "execution_count": 47,
     "metadata": {},
     "output_type": "execute_result"
    }
   ],
   "source": [
    "##we will be using the tensor we created for aggregation for this \n",
    "\n",
    "tensor_4_agg"
   ]
  },
  {
   "cell_type": "code",
   "execution_count": 48,
   "id": "35f46d0e",
   "metadata": {},
   "outputs": [
    {
     "data": {
      "text/plain": [
       "tensor(2)"
      ]
     },
     "execution_count": 48,
     "metadata": {},
     "output_type": "execute_result"
    }
   ],
   "source": [
    "tensor_4_agg.argmax()"
   ]
  },
  {
   "cell_type": "code",
   "execution_count": 49,
   "id": "535a2445",
   "metadata": {},
   "outputs": [
    {
     "data": {
      "text/plain": [
       "tensor(0)"
      ]
     },
     "execution_count": 49,
     "metadata": {},
     "output_type": "execute_result"
    }
   ],
   "source": [
    "tensor_4_agg.argmin()"
   ]
  },
  {
   "cell_type": "markdown",
   "id": "7c7c951f",
   "metadata": {},
   "source": [
    "### Reshaping, stacking, Squeezing, and Unsqueezing Tensors \n",
    "\n",
    "- Reshaping: Reshapes an input tensor to a defined shape \n",
    "- View- Return a view of an input tensor of a certain shpe but keep the same memory as the original tensor \n",
    "- Stacking- combines multiple tensors on top of each other or side by side \n",
    "- Squeeze: Removes all 1 dimension from a tensor \n",
    "- Unsqeeze: Add a 1 dimension to a target tensor \n",
    "- Permute: Return a view of input with dimensions permuted (swapped) in a certain way "
   ]
  },
  {
   "cell_type": "markdown",
   "id": "55ecb583",
   "metadata": {},
   "source": [
    "#### i. Reshaping \n",
    "Allows us to change the dimension of our tensor. Usually the row and column specification of the resphase should be multiples of the size of the tensor"
   ]
  },
  {
   "cell_type": "code",
   "execution_count": 51,
   "id": "b8a7fd56",
   "metadata": {},
   "outputs": [
    {
     "data": {
      "text/plain": [
       "tensor([[34,  5,  6,  3],\n",
       "        [ 3,  2,  5,  6],\n",
       "        [ 7,  8,  9, 10]])"
      ]
     },
     "execution_count": 51,
     "metadata": {},
     "output_type": "execute_result"
    }
   ],
   "source": [
    "tensor_A"
   ]
  },
  {
   "cell_type": "code",
   "execution_count": 57,
   "id": "6f59ee2d",
   "metadata": {},
   "outputs": [
    {
     "data": {
      "text/plain": [
       "tensor([[34,  5,  6],\n",
       "        [ 3,  3,  2],\n",
       "        [ 5,  6,  7],\n",
       "        [ 8,  9, 10]])"
      ]
     },
     "execution_count": 57,
     "metadata": {},
     "output_type": "execute_result"
    }
   ],
   "source": [
    "torch.reshape(tensor_A, shape= (4,3))"
   ]
  },
  {
   "cell_type": "code",
   "execution_count": 63,
   "id": "f53104a6",
   "metadata": {},
   "outputs": [
    {
     "data": {
      "text/plain": [
       "tensor([[34,  5],\n",
       "        [ 6,  3],\n",
       "        [ 3,  2],\n",
       "        [ 5,  6],\n",
       "        [ 7,  8],\n",
       "        [ 9, 10]])"
      ]
     },
     "execution_count": 63,
     "metadata": {},
     "output_type": "execute_result"
    }
   ],
   "source": [
    " tensor_A.reshape(6,2)\n"
   ]
  },
  {
   "cell_type": "code",
   "execution_count": 64,
   "id": "576f7e8b",
   "metadata": {},
   "outputs": [
    {
     "data": {
      "text/plain": [
       "tensor([[34,  5,  6,  3,  3,  2,  5,  6,  7,  8,  9, 10]])"
      ]
     },
     "execution_count": 64,
     "metadata": {},
     "output_type": "execute_result"
    }
   ],
   "source": [
    " tensor_A.reshape(1,12)\n"
   ]
  },
  {
   "cell_type": "markdown",
   "id": "4f43de47",
   "metadata": {},
   "source": [
    "#### Stacking"
   ]
  },
  {
   "cell_type": "code",
   "execution_count": 76,
   "id": "d90250a9",
   "metadata": {},
   "outputs": [
    {
     "data": {
      "text/plain": [
       "tensor([[[34,  5,  6,  3],\n",
       "         [ 3,  2,  5,  6],\n",
       "         [ 7,  8,  9, 10]],\n",
       "\n",
       "        [[ 4,  5,  6,  3],\n",
       "         [ 9,  9,  9, 10],\n",
       "         [12,  8,  9, 10]]])"
      ]
     },
     "execution_count": 76,
     "metadata": {},
     "output_type": "execute_result"
    }
   ],
   "source": [
    "stack= torch.stack([tensor_A, tensor_B], dim=0)\n",
    "stack"
   ]
  },
  {
   "cell_type": "code",
   "execution_count": 72,
   "id": "28e925d0",
   "metadata": {},
   "outputs": [
    {
     "data": {
      "text/plain": [
       "tensor([[34,  5,  6,  3,  4,  5,  6,  3],\n",
       "        [ 3,  2,  5,  6,  9,  9,  9, 10],\n",
       "        [ 7,  8,  9, 10, 12,  8,  9, 10]])"
      ]
     },
     "execution_count": 72,
     "metadata": {},
     "output_type": "execute_result"
    }
   ],
   "source": [
    "h_stack= torch.hstack([tensor_A, tensor_B])\n",
    "h_stack"
   ]
  },
  {
   "cell_type": "code",
   "execution_count": 78,
   "id": "48bb065d",
   "metadata": {},
   "outputs": [
    {
     "data": {
      "text/plain": [
       "tensor([[34,  5,  6,  3],\n",
       "        [ 3,  2,  5,  6],\n",
       "        [ 7,  8,  9, 10],\n",
       "        [ 4,  5,  6,  3],\n",
       "        [ 9,  9,  9, 10],\n",
       "        [12,  8,  9, 10]])"
      ]
     },
     "execution_count": 78,
     "metadata": {},
     "output_type": "execute_result"
    }
   ],
   "source": [
    "V_stack=torch.vstack([tensor_A, tensor_B])\n",
    "V_stack"
   ]
  },
  {
   "cell_type": "markdown",
   "id": "ae191192",
   "metadata": {},
   "source": [
    "#### Squeezing and UnSqueezin"
   ]
  },
  {
   "cell_type": "code",
   "execution_count": 79,
   "id": "31a2a363",
   "metadata": {},
   "outputs": [
    {
     "data": {
      "text/plain": [
       "tensor([[34,  5,  6,  3],\n",
       "        [ 3,  2,  5,  6],\n",
       "        [ 7,  8,  9, 10]])"
      ]
     },
     "execution_count": 79,
     "metadata": {},
     "output_type": "execute_result"
    }
   ],
   "source": [
    "tensor_A"
   ]
  },
  {
   "cell_type": "code",
   "execution_count": 90,
   "id": "b515c1b4",
   "metadata": {},
   "outputs": [
    {
     "data": {
      "text/plain": [
       "tensor([[[34],\n",
       "         [ 5],\n",
       "         [ 6],\n",
       "         [ 3]],\n",
       "\n",
       "        [[ 3],\n",
       "         [ 2],\n",
       "         [ 5],\n",
       "         [ 6]],\n",
       "\n",
       "        [[ 7],\n",
       "         [ 8],\n",
       "         [ 9],\n",
       "         [10]]])"
      ]
     },
     "execution_count": 90,
     "metadata": {},
     "output_type": "execute_result"
    }
   ],
   "source": [
    "tensor_A.unsqueeze(dim=2)"
   ]
  },
  {
   "cell_type": "code",
   "execution_count": 108,
   "id": "665b95b4",
   "metadata": {},
   "outputs": [
    {
     "name": "stdout",
     "output_type": "stream",
     "text": [
      "The shape of tensor([[[[0.4283, 0.2889, 0.4224, 0.3571, 0.9577],\n",
      "          [0.1100, 0.2933, 0.9205, 0.5876, 0.1299],\n",
      "          [0.6729, 0.1028, 0.7876, 0.5540, 0.4653],\n",
      "          [0.2311, 0.2214, 0.3348, 0.4541, 0.2519]],\n",
      "\n",
      "         [[0.6310, 0.1707, 0.3122, 0.1976, 0.5466],\n",
      "          [0.0213, 0.9049, 0.8444, 0.9330, 0.2950],\n",
      "          [0.4773, 0.4787, 0.3440, 0.6732, 0.6593],\n",
      "          [0.1879, 0.4546, 0.1049, 0.7112, 0.7709]]]]) is: torch.Size([1, 2, 4, 5])\n"
     ]
    }
   ],
   "source": [
    "torch.manual_seed(23)\n",
    "t4= torch.rand(1,2,4,5)\n",
    "\n",
    "print(f\"The shape of {t4} is: {t4.shape}\")"
   ]
  },
  {
   "cell_type": "code",
   "execution_count": 110,
   "id": "6d40612d",
   "metadata": {},
   "outputs": [
    {
     "name": "stdout",
     "output_type": "stream",
     "text": [
      "The shape of tensor([[[0.4283, 0.2889, 0.4224, 0.3571, 0.9577],\n",
      "         [0.1100, 0.2933, 0.9205, 0.5876, 0.1299],\n",
      "         [0.6729, 0.1028, 0.7876, 0.5540, 0.4653],\n",
      "         [0.2311, 0.2214, 0.3348, 0.4541, 0.2519]],\n",
      "\n",
      "        [[0.6310, 0.1707, 0.3122, 0.1976, 0.5466],\n",
      "         [0.0213, 0.9049, 0.8444, 0.9330, 0.2950],\n",
      "         [0.4773, 0.4787, 0.3440, 0.6732, 0.6593],\n",
      "         [0.1879, 0.4546, 0.1049, 0.7112, 0.7709]]]) is: torch.Size([2, 4, 5])\n"
     ]
    }
   ],
   "source": [
    "squeezed_t4= t4.squeeze()\n",
    "\n",
    "print(f\"The shape of {squeezed_t4} is: {squeezed_t4.shape}\")"
   ]
  },
  {
   "cell_type": "markdown",
   "id": "7801d6f6",
   "metadata": {},
   "source": [
    "- From above, the shapes are different "
   ]
  },
  {
   "cell_type": "code",
   "execution_count": null,
   "id": "dd416da6",
   "metadata": {},
   "outputs": [],
   "source": [
    "## unsqueeze: We will use the squeezed t4 as an exaample \n",
    "\n",
    "## the dim tells us the position to which we can add the new dimension of size 1, I will create an extra with the changed dim to demonstrate this \n",
    "\n",
    "unsqueezed_t4= squeezed_t4.unsqueeze(dim=3)\n",
    "unsqueezed_t4_2= squeezed_t4.unsqueeze(dim=2)\n",
    "\n",
    "\n"
   ]
  },
  {
   "cell_type": "code",
   "execution_count": 120,
   "id": "3fbad077",
   "metadata": {},
   "outputs": [
    {
     "name": "stdout",
     "output_type": "stream",
     "text": [
      "The shape of t4 is: torch.Size([1, 2, 4, 5])\n",
      "The shape of squeezed_t4 is: torch.Size([2, 4, 5])\n",
      "The shape of unsqueezed_t4 is: torch.Size([2, 4, 5, 1])\n",
      "The shape of unsqueezed_t4_2 is: torch.Size([2, 4, 1, 5])\n"
     ]
    }
   ],
   "source": [
    "##we will just print the shape to see how they shapes vary from the original tensor: \n",
    "\n",
    "print(f\"The shape of t4 is: {t4.shape}\")\n",
    "print(f\"The shape of squeezed_t4 is: {squeezed_t4.shape}\")\n",
    "print(f\"The shape of unsqueezed_t4 is: {unsqueezed_t4.shape}\")\n",
    "print(f\"The shape of unsqueezed_t4_2 is: {unsqueezed_t4_2.shape}\")\n",
    "\n"
   ]
  },
  {
   "cell_type": "markdown",
   "id": "a1fe40d9",
   "metadata": {},
   "source": [
    "#### Permutation "
   ]
  },
  {
   "cell_type": "markdown",
   "id": "937425d3",
   "metadata": {},
   "source": [
    "- Permutation allows us to change the orientation of the values of a matrix "
   ]
  },
  {
   "cell_type": "code",
   "execution_count": null,
   "id": "7ce1f4b6",
   "metadata": {},
   "outputs": [],
   "source": [
    "torch.manual_seed(33) ## to ensure consistency\n",
    "\n",
    "x_original= torch.rand(size=(2,4,3))\n",
    "\n",
    "x_permute= torch.permute(x_original, (2,0,1))"
   ]
  },
  {
   "cell_type": "code",
   "execution_count": 130,
   "id": "ed5669ea",
   "metadata": {},
   "outputs": [
    {
     "name": "stdout",
     "output_type": "stream",
     "text": [
      "The original shape of x_original is torch.Size([2, 4, 3])\n",
      "The permute shape of x_original is torch.Size([3, 2, 4])\n"
     ]
    }
   ],
   "source": [
    "print(f\"The original shape of x_original is {x_original.shape}\")\n",
    "print(f\"The permute shape of x_original is {x_permute.shape}\")\n",
    "\n"
   ]
  },
  {
   "cell_type": "markdown",
   "id": "08bd6a9f",
   "metadata": {},
   "source": [
    "### Indexing\n",
    "\n",
    "- Indexing in Pytorch is simlar to indexing in Numpy"
   ]
  },
  {
   "cell_type": "code",
   "execution_count": 142,
   "id": "7051f6aa",
   "metadata": {},
   "outputs": [
    {
     "data": {
      "text/plain": [
       "(tensor([[[ 1,  2,  3],\n",
       "          [ 4,  5,  6],\n",
       "          [ 7,  8,  9],\n",
       "          [10, 11, 12]]]),\n",
       " torch.Size([1, 4, 3]))"
      ]
     },
     "execution_count": 142,
     "metadata": {},
     "output_type": "execute_result"
    }
   ],
   "source": [
    "x= torch.arange(1,13).reshape(1,4,3)\n",
    "\n",
    "x, x.shape"
   ]
  },
  {
   "cell_type": "markdown",
   "id": "06d93903",
   "metadata": {},
   "source": [
    "Extract the following:\n",
    "\n",
    "- First row \n",
    "- number 7, and 1\n",
    "- second and third row "
   ]
  },
  {
   "cell_type": "code",
   "execution_count": 151,
   "id": "66c6f0c9",
   "metadata": {},
   "outputs": [
    {
     "data": {
      "text/plain": [
       "tensor([[1, 2, 3]])"
      ]
     },
     "execution_count": 151,
     "metadata": {},
     "output_type": "execute_result"
    }
   ],
   "source": [
    "##indexing the first row \n",
    "\n",
    "x[:, 0]"
   ]
  },
  {
   "cell_type": "code",
   "execution_count": null,
   "id": "1a63afd8",
   "metadata": {},
   "outputs": [
    {
     "data": {
      "text/plain": [
       "tensor(7)"
      ]
     },
     "execution_count": 154,
     "metadata": {},
     "output_type": "execute_result"
    }
   ],
   "source": [
    "##extracting numbers 7,\n",
    "\n",
    "x[0][2][0]"
   ]
  },
  {
   "cell_type": "code",
   "execution_count": 155,
   "id": "aaacfd49",
   "metadata": {},
   "outputs": [
    {
     "data": {
      "text/plain": [
       "tensor(11)"
      ]
     },
     "execution_count": 155,
     "metadata": {},
     "output_type": "execute_result"
    }
   ],
   "source": [
    "##extracting the number 11\n",
    "\n",
    "x[0][3][1]"
   ]
  },
  {
   "cell_type": "code",
   "execution_count": 156,
   "id": "a1238a2b",
   "metadata": {},
   "outputs": [
    {
     "data": {
      "text/plain": [
       "tensor([[[4, 5, 6],\n",
       "         [7, 8, 9]]])"
      ]
     },
     "execution_count": 156,
     "metadata": {},
     "output_type": "execute_result"
    }
   ],
   "source": [
    "##extracting the first two rows \n",
    "\n",
    "x[:,1:3]\n"
   ]
  },
  {
   "cell_type": "markdown",
   "id": "025bfd7e",
   "metadata": {},
   "source": [
    "### Pytorch, Tensors and Numpy \n",
    "\n",
    "This section focused on teaching how to get data from `numpy` and use it in `pytorch` or vice versa\n",
    "\n",
    "- To use `Numpy` in `Pytorch`, you use the: `torch.from_numpy(ndarray)`\n",
    "- To use `PyTorch` tensor, you use the `torch.Tensor.numpy()`"
   ]
  },
  {
   "cell_type": "code",
   "execution_count": 159,
   "id": "5f39f636",
   "metadata": {},
   "outputs": [
    {
     "name": "stdout",
     "output_type": "stream",
     "text": [
      "int64\n"
     ]
    }
   ],
   "source": [
    "import numpy as np\n",
    "\n",
    "np_array= np.array([[2,3,4,5], [2,4,23,2]])\n",
    "\n",
    "print(np_array.dtype)"
   ]
  },
  {
   "cell_type": "code",
   "execution_count": null,
   "id": "f1021eab",
   "metadata": {},
   "outputs": [],
   "source": [
    "##changing a numpy array to a tensor \n",
    "\n",
    "np_array_tensor= torch.from_numpy(np_array)"
   ]
  },
  {
   "cell_type": "code",
   "execution_count": 162,
   "id": "648f3668",
   "metadata": {},
   "outputs": [
    {
     "name": "stdout",
     "output_type": "stream",
     "text": [
      "The datatype of the numpy array is int64.\n",
      "The datatype of the Pytorch tensor is torch.int64.\n"
     ]
    }
   ],
   "source": [
    "print(f\"The datatype of the numpy array is {np_array.dtype}.\")\n",
    "print(f\"The datatype of the Pytorch tensor is {np_array_tensor.dtype}.\")"
   ]
  },
  {
   "cell_type": "code",
   "execution_count": 164,
   "id": "4fd42430",
   "metadata": {},
   "outputs": [],
   "source": [
    "##changing a tensor to an array \n",
    "\n",
    "ten_to_np_array=torch.Tensor.numpy(tensor_A)"
   ]
  },
  {
   "cell_type": "code",
   "execution_count": 165,
   "id": "b15d2ea8",
   "metadata": {},
   "outputs": [
    {
     "name": "stdout",
     "output_type": "stream",
     "text": [
      "The datatype of the numpy array is torch.int64.\n",
      "The datatype of the Pytorch tensor is int64.\n"
     ]
    }
   ],
   "source": [
    "print(f\"The datatype of the numpy array is {tensor_A.dtype}.\")\n",
    "print(f\"The datatype of the Pytorch tensor is {ten_to_np_array.dtype}.\")"
   ]
  },
  {
   "cell_type": "markdown",
   "id": "cab8b840",
   "metadata": {},
   "source": [
    "### Pytorch Reproducability \n",
    "\n",
    "- If you noticed I used some sort of `manual_seed` in some of my codes where I used the rand variable. Well this is because, I didn't want the value changing each time I run my code\n",
    "- This is also important in cases where you want to share your code with others and ensure that you both have the same values  "
   ]
  },
  {
   "cell_type": "markdown",
   "id": "f1122cc0",
   "metadata": {},
   "source": []
  },
  {
   "cell_type": "code",
   "execution_count": 169,
   "id": "a20b780c",
   "metadata": {},
   "outputs": [],
   "source": [
    "torch.manual_seed(123)\n",
    "\n",
    "tensor_static= torch.randn(2,3,4)\n",
    "\n"
   ]
  },
  {
   "cell_type": "code",
   "execution_count": 170,
   "id": "7023ad77",
   "metadata": {},
   "outputs": [
    {
     "data": {
      "text/plain": [
       "tensor([[[ 0.3374, -0.1778, -0.3035, -0.5880],\n",
       "         [ 0.3486,  0.6603, -0.2196, -0.3792],\n",
       "         [-0.1606, -0.4015,  0.6957, -1.8061]],\n",
       "\n",
       "        [[ 1.8960, -0.1750,  1.3689, -1.6033],\n",
       "         [-0.7849, -1.4096, -0.4076,  0.7953],\n",
       "         [ 0.9985,  0.2212,  1.8319, -0.3378]]])"
      ]
     },
     "execution_count": 170,
     "metadata": {},
     "output_type": "execute_result"
    }
   ],
   "source": [
    "tensor_static"
   ]
  },
  {
   "cell_type": "code",
   "execution_count": 176,
   "id": "5bc2753c",
   "metadata": {},
   "outputs": [
    {
     "data": {
      "text/plain": [
       "tensor([[[-0.8484,  0.5323, -0.9344, -0.8431],\n",
       "         [-0.1346,  0.4680, -0.7952, -0.9178],\n",
       "         [ 1.3818, -0.0694, -0.7612,  0.2416]],\n",
       "\n",
       "        [[-0.5878, -1.1506,  1.0164,  0.1234],\n",
       "         [ 1.1311, -0.0858, -0.0597,  0.3553],\n",
       "         [-1.4355,  0.0727,  0.1053, -1.0311]]])"
      ]
     },
     "execution_count": 176,
     "metadata": {},
     "output_type": "execute_result"
    }
   ],
   "source": [
    "torch.randn(2,3,4)\n"
   ]
  },
  {
   "cell_type": "code",
   "execution_count": 174,
   "id": "edec4411",
   "metadata": {},
   "outputs": [
    {
     "data": {
      "text/plain": [
       "tensor([[[-0.5872,  1.1952, -1.2096, -0.5560],\n",
       "         [-2.7202,  0.5421, -1.1541,  0.7763],\n",
       "         [-1.2743,  0.4513, -0.2280,  0.9224]],\n",
       "\n",
       "        [[ 0.2056, -0.4970,  0.5821,  0.2053],\n",
       "         [-0.3018, -0.6703, -0.6171, -0.8334],\n",
       "         [ 0.4839, -0.1349,  0.2119, -0.8714]]])"
      ]
     },
     "execution_count": 174,
     "metadata": {},
     "output_type": "execute_result"
    }
   ],
   "source": [
    "torch.randn(2,3,4)\n"
   ]
  },
  {
   "cell_type": "code",
   "execution_count": 171,
   "id": "87d64341",
   "metadata": {},
   "outputs": [
    {
     "data": {
      "text/plain": [
       "tensor([[[ 0.3374, -0.1778, -0.3035, -0.5880],\n",
       "         [ 0.3486,  0.6603, -0.2196, -0.3792],\n",
       "         [-0.1606, -0.4015,  0.6957, -1.8061]],\n",
       "\n",
       "        [[ 1.8960, -0.1750,  1.3689, -1.6033],\n",
       "         [-0.7849, -1.4096, -0.4076,  0.7953],\n",
       "         [ 0.9985,  0.2212,  1.8319, -0.3378]]])"
      ]
     },
     "execution_count": 171,
     "metadata": {},
     "output_type": "execute_result"
    }
   ],
   "source": [
    "tensor_static"
   ]
  },
  {
   "cell_type": "markdown",
   "id": "07cadf8d",
   "metadata": {},
   "source": [
    "### Summary \n",
    "- So, we can see the tensor-static stays the same \n",
    "- But the second and third changes \n",
    "- The `torch.manual_seed` only affects the cell it is in "
   ]
  },
  {
   "cell_type": "code",
   "execution_count": null,
   "id": "deb555b6",
   "metadata": {},
   "outputs": [],
   "source": []
  },
  {
   "cell_type": "markdown",
   "id": "1476febd",
   "metadata": {},
   "source": []
  }
 ],
 "metadata": {
  "kernelspec": {
   "display_name": ".venv",
   "language": "python",
   "name": "python3"
  },
  "language_info": {
   "codemirror_mode": {
    "name": "ipython",
    "version": 3
   },
   "file_extension": ".py",
   "mimetype": "text/x-python",
   "name": "python",
   "nbconvert_exporter": "python",
   "pygments_lexer": "ipython3",
   "version": "3.12.5"
  }
 },
 "nbformat": 4,
 "nbformat_minor": 5
}
