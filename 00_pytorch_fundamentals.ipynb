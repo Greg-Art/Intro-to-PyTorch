{
 "cells": [
  {
   "cell_type": "markdown",
   "id": "51b067ae",
   "metadata": {},
   "source": [
    "### 1. Environment Verification \n",
    "\n"
   ]
  },
  {
   "cell_type": "code",
   "execution_count": 1,
   "id": "3e91c11a",
   "metadata": {},
   "outputs": [
    {
     "name": "stdout",
     "output_type": "stream",
     "text": [
      "PyTorch version: 2.6.0\n",
      "MPS backend built?   True\n",
      "MPS available?       True\n",
      "Tensor device: mps:0\n"
     ]
    }
   ],
   "source": [
    "import torch\n",
    "print(\"PyTorch version:\", torch.__version__)\n",
    "print(\"MPS backend built?  \", torch.backends.mps.is_built())\n",
    "print(\"MPS available?      \", torch.backends.mps.is_available())\n",
    "\n",
    "# quick device test\n",
    "device = torch.device(\"mps\")\n",
    "x = torch.randn(2,2).to(device)\n",
    "print(\"Tensor device:\", x.device)"
   ]
  },
  {
   "cell_type": "markdown",
   "id": "0c91540c",
   "metadata": {},
   "source": [
    "### 2. Device‐Selection Boilerplate \n",
    "\n"
   ]
  },
  {
   "cell_type": "code",
   "execution_count": 2,
   "id": "f2ed5120",
   "metadata": {},
   "outputs": [
    {
     "name": "stdout",
     "output_type": "stream",
     "text": [
      "Running on MPS (GPU)\n"
     ]
    }
   ],
   "source": [
    "import torch\n",
    "\n",
    "# 1) Check for MPS support (Apple GPU)\n",
    "if torch.backends.mps.is_available():\n",
    "    device = torch.device(\"mps\")    # GPU\n",
    "    print(\"Running on MPS (GPU)\")\n",
    "else:\n",
    "    device = torch.device(\"cpu\")    # CPU\n",
    "    print(\"Running on CPU\")\n",
    "\n"
   ]
  },
  {
   "cell_type": "code",
   "execution_count": 3,
   "id": "d4b88322",
   "metadata": {},
   "outputs": [
    {
     "name": "stdout",
     "output_type": "stream",
     "text": [
      "tensor([[0.8036, 0.9714, 0.3210],\n",
      "        [0.5894, 0.0324, 0.5549],\n",
      "        [0.7921, 0.2235, 0.3529],\n",
      "        [0.2912, 0.4008, 0.7134],\n",
      "        [0.1320, 0.4779, 0.6763]])\n"
     ]
    }
   ],
   "source": [
    "## testing torch \n",
    "\n",
    "x= torch.rand(5,3)\n",
    "print(x)"
   ]
  },
  {
   "cell_type": "markdown",
   "id": "b56a5210",
   "metadata": {},
   "source": [
    "### Importing relevant libraries \n"
   ]
  },
  {
   "cell_type": "code",
   "execution_count": 4,
   "id": "12792d1a",
   "metadata": {},
   "outputs": [],
   "source": [
    "import pandas as pd \n",
    "import numpy \n",
    "import matplotlib.pyplot"
   ]
  },
  {
   "cell_type": "markdown",
   "id": "19041663",
   "metadata": {},
   "source": [
    "### Introduction to Tensors "
   ]
  },
  {
   "cell_type": "markdown",
   "id": "f2383678",
   "metadata": {},
   "source": [
    "#### i. Creating Tensors Manually"
   ]
  },
  {
   "cell_type": "code",
   "execution_count": null,
   "id": "acb05786",
   "metadata": {},
   "outputs": [],
   "source": []
  },
  {
   "cell_type": "markdown",
   "id": "52242787",
   "metadata": {},
   "source": [
    "A tensor is a numeric representation of data. In python, we have quite a variety of tensors:\n",
    "\n",
    "- Scalar: These a zero dimension arrays or they have only magnitude \n",
    "- Vectors: These are 1-day array or these have magnitude and direction\n",
    "- Matrix: These are 2-d arrays or these are linear transformations or moves in the X and Y direction or even 3d coordinates sometime\n",
    "- Tensors: While the above are tensors, we usually refer to tensors are multi-dimensional arrays \n",
    "\n",
    "We will take a look at how to create each in Pytorch and we usually create this using torch.tensor()"
   ]
  },
  {
   "cell_type": "code",
   "execution_count": 5,
   "id": "d82055cf",
   "metadata": {},
   "outputs": [],
   "source": [
    "## creating a scalar \n",
    "\n",
    "scalar= torch.tensor(7)"
   ]
  },
  {
   "cell_type": "code",
   "execution_count": 6,
   "id": "4b74cc97",
   "metadata": {},
   "outputs": [
    {
     "name": "stdout",
     "output_type": "stream",
     "text": [
      "The value of the scalar is 7\n",
      "The item present in the scalar is 7\n",
      "The dimension of the scalar is 0\n"
     ]
    }
   ],
   "source": [
    "\n",
    "print(f\"The value of the scalar is {scalar}\")\n",
    "print(f\"The item present in the scalar is {scalar.item()}\")\n",
    "print(f\"The dimension of the scalar is {scalar.ndim}\")"
   ]
  },
  {
   "cell_type": "code",
   "execution_count": 7,
   "id": "7b30add3",
   "metadata": {},
   "outputs": [],
   "source": [
    "## creating a vector \n",
    "\n",
    "vector= torch.tensor([7,7])\n"
   ]
  },
  {
   "cell_type": "code",
   "execution_count": 8,
   "id": "d76fe8c0",
   "metadata": {},
   "outputs": [
    {
     "name": "stdout",
     "output_type": "stream",
     "text": [
      "The value of the vector is [7, 7]\n",
      "The dimension of the vector is 1\n",
      "The shape of the vector is torch.Size([2])\n"
     ]
    }
   ],
   "source": [
    "\n",
    "print(f\"The value of the vector is {vector.tolist()}\")\n",
    "print(f\"The dimension of the vector is {vector.ndim}\")\n",
    "print(f\"The shape of the vector is {vector.shape}\")\n",
    "\n"
   ]
  },
  {
   "cell_type": "code",
   "execution_count": 9,
   "id": "63f7d1c5",
   "metadata": {},
   "outputs": [],
   "source": [
    "##creating MATRIX\n",
    "\n",
    "MATRIX= torch.tensor([[7,9], [10,11]])\n",
    "\n",
    "\n"
   ]
  },
  {
   "cell_type": "code",
   "execution_count": 10,
   "id": "c1750bd8",
   "metadata": {},
   "outputs": [
    {
     "name": "stdout",
     "output_type": "stream",
     "text": [
      "The value of the vector is tensor([[ 7,  9],\n",
      "        [10, 11]])\n",
      "The dimension of the vector is 2\n",
      "The shape of the  matrix is torch.Size([2, 2])\n"
     ]
    }
   ],
   "source": [
    "\n",
    "print(f\"The value of the vector is {MATRIX}\")\n",
    "print(f\"The dimension of the vector is {MATRIX.ndim}\")\n",
    "print(f\"The shape of the  matrix is {MATRIX.shape}\")"
   ]
  },
  {
   "cell_type": "code",
   "execution_count": 11,
   "id": "d556de53",
   "metadata": {},
   "outputs": [
    {
     "data": {
      "text/plain": [
       "tensor([10, 11])"
      ]
     },
     "execution_count": 11,
     "metadata": {},
     "output_type": "execute_result"
    }
   ],
   "source": [
    "MATRIX[1]"
   ]
  },
  {
   "cell_type": "code",
   "execution_count": 12,
   "id": "c13d53f3",
   "metadata": {},
   "outputs": [],
   "source": [
    "###TENSOR\n",
    "\n",
    "TENSOR= torch.tensor([[[1,2,3,4,],[5,6,7,8],[9,10,11,2]]])"
   ]
  },
  {
   "cell_type": "code",
   "execution_count": 13,
   "id": "8d0f6b53",
   "metadata": {},
   "outputs": [
    {
     "name": "stdout",
     "output_type": "stream",
     "text": [
      "The value of the vector is tensor([[[ 1,  2,  3,  4],\n",
      "         [ 5,  6,  7,  8],\n",
      "         [ 9, 10, 11,  2]]])\n",
      "The dimension of the vector is 3\n",
      "The shape of the  matrix is torch.Size([1, 3, 4])\n"
     ]
    }
   ],
   "source": [
    "print(f\"The value of the vector is {TENSOR}\")\n",
    "print(f\"The dimension of the vector is {TENSOR.ndim}\")\n",
    "print(f\"The shape of the  matrix is {TENSOR.shape}\")\n"
   ]
  },
  {
   "cell_type": "markdown",
   "id": "76c389c0",
   "metadata": {},
   "source": [
    "#### ii. Generating Random Tensors\n",
    "\n",
    "- This is important as in neural networks, this allows us to assign random weights to our nerual networks, and then adjust the random numbers to better represent the data\n",
    "- To create a random tensor, we use the torch.rand and we spcify the number of rows, columns, depth(if 3d) and others with the numbers you input separated by a comma. \n",
    "- Please note, while creating your random tensors, the more numbers separated by a comma, the more dimension you add"
   ]
  },
  {
   "cell_type": "code",
   "execution_count": 14,
   "id": "34fc8a47",
   "metadata": {},
   "outputs": [],
   "source": [
    "##creating the random tensor in various dimensions\n",
    "\n",
    "random_tensor_2d= torch.rand(3,4)\n",
    "random_tensor_3d= torch.rand(3,4,4)\n",
    "random_tensor_4d= torch.rand(3,4,4,5)"
   ]
  },
  {
   "cell_type": "code",
   "execution_count": 15,
   "id": "b40aeeef",
   "metadata": {},
   "outputs": [
    {
     "name": "stdout",
     "output_type": "stream",
     "text": [
      "tensor([[0.6985, 0.7994, 0.7448, 0.7500],\n",
      "        [0.7996, 0.3084, 0.7398, 0.2644],\n",
      "        [0.5921, 0.4060, 0.0811, 0.3480]])\n",
      "tensor([[[0.0416, 0.2335, 0.7052, 0.6153],\n",
      "         [0.2737, 0.1121, 0.9500, 0.2446],\n",
      "         [0.8460, 0.0089, 0.9619, 0.5810],\n",
      "         [0.6085, 0.4067, 0.2134, 0.0542]],\n",
      "\n",
      "        [[0.7453, 0.6991, 0.2764, 0.5405],\n",
      "         [0.0659, 0.9120, 0.8163, 0.9384],\n",
      "         [0.9551, 0.8511, 0.6724, 0.4554],\n",
      "         [0.9972, 0.6807, 0.8506, 0.8105]],\n",
      "\n",
      "        [[0.9038, 0.3076, 0.5778, 0.5667],\n",
      "         [0.3709, 0.3680, 0.0484, 0.1890],\n",
      "         [0.5377, 0.4145, 0.2317, 0.3499],\n",
      "         [0.1906, 0.9279, 0.3065, 0.4196]]])\n",
      "tensor([[[[0.8461, 0.8453, 0.7795, 0.8425, 0.6722],\n",
      "          [0.7995, 0.6014, 0.5986, 0.2175, 0.6377],\n",
      "          [0.9866, 0.3365, 0.5790, 0.7873, 0.1374],\n",
      "          [0.3723, 0.2416, 0.6490, 0.3511, 0.5010]],\n",
      "\n",
      "         [[0.3274, 0.5284, 0.8534, 0.7315, 0.5931],\n",
      "          [0.6382, 0.2646, 0.5797, 0.1840, 0.9949],\n",
      "          [0.3545, 0.8013, 0.8628, 0.8396, 0.7497],\n",
      "          [0.2250, 0.6978, 0.0234, 0.2812, 0.9644]],\n",
      "\n",
      "         [[0.2294, 0.5607, 0.7248, 0.1679, 0.2532],\n",
      "          [0.2370, 0.0307, 0.3425, 0.2740, 0.7366],\n",
      "          [0.8615, 0.1408, 0.9926, 0.7269, 0.1577],\n",
      "          [0.8924, 0.4140, 0.4852, 0.0237, 0.7907]],\n",
      "\n",
      "         [[0.6462, 0.3800, 0.5165, 0.1676, 0.8225],\n",
      "          [0.3171, 0.2874, 0.1292, 0.5853, 0.4867],\n",
      "          [0.2617, 0.3160, 0.4674, 0.9905, 0.9925],\n",
      "          [0.4582, 0.9962, 0.6413, 0.1747, 0.4968]]],\n",
      "\n",
      "\n",
      "        [[[0.4827, 0.0979, 0.2255, 0.5152, 0.2165],\n",
      "          [0.6414, 0.6677, 0.4119, 0.7089, 0.1950],\n",
      "          [0.7918, 0.6932, 0.4069, 0.7639, 0.1969],\n",
      "          [0.3618, 0.3833, 0.0731, 0.3202, 0.2511]],\n",
      "\n",
      "         [[0.3969, 0.2893, 0.2746, 0.2604, 0.6175],\n",
      "          [0.6747, 0.8923, 0.8353, 0.2758, 0.4749],\n",
      "          [0.0900, 0.1547, 0.0837, 0.0472, 0.4178],\n",
      "          [0.5530, 0.2375, 0.3008, 0.9242, 0.3433]],\n",
      "\n",
      "         [[0.6772, 0.7468, 0.0575, 0.4202, 0.4033],\n",
      "          [0.0553, 0.4005, 0.8576, 0.6402, 0.4837],\n",
      "          [0.6705, 0.6949, 0.0920, 0.0179, 0.1955],\n",
      "          [0.8133, 0.1374, 0.8089, 0.4629, 0.8963]],\n",
      "\n",
      "         [[0.2655, 0.7490, 0.1309, 0.6799, 0.1368],\n",
      "          [0.8679, 0.0741, 0.2018, 0.9159, 0.7845],\n",
      "          [0.9507, 0.5748, 0.0509, 0.1544, 0.0091],\n",
      "          [0.7149, 0.0768, 0.6787, 0.9604, 0.2181]]],\n",
      "\n",
      "\n",
      "        [[[0.7707, 0.6339, 0.4104, 0.7650, 0.1471],\n",
      "          [0.7545, 0.7388, 0.2259, 0.7061, 0.2181],\n",
      "          [0.9016, 0.3771, 0.2444, 0.1360, 0.3030],\n",
      "          [0.1784, 0.5492, 0.6517, 0.6724, 0.1440]],\n",
      "\n",
      "         [[0.3078, 0.3971, 0.8085, 0.5888, 0.3221],\n",
      "          [0.1316, 0.9511, 0.4832, 0.2984, 0.4656],\n",
      "          [0.5708, 0.4034, 0.3747, 0.4112, 0.9134],\n",
      "          [0.8250, 0.2331, 0.2592, 0.4764, 0.1594]],\n",
      "\n",
      "         [[0.1623, 0.4202, 0.7375, 0.6750, 0.2890],\n",
      "          [0.1773, 0.1101, 0.8654, 0.0069, 0.6042],\n",
      "          [0.5220, 0.9280, 0.6446, 0.5234, 0.2509],\n",
      "          [0.1745, 0.8159, 0.4873, 0.5889, 0.0612]],\n",
      "\n",
      "         [[0.3880, 0.8181, 0.8707, 0.3948, 0.3860],\n",
      "          [0.7016, 0.9007, 0.9589, 0.7636, 0.0313],\n",
      "          [0.2357, 0.5454, 0.3702, 0.2522, 0.1890],\n",
      "          [0.7550, 0.1301, 0.8450, 0.8673, 0.6489]]]])\n"
     ]
    }
   ],
   "source": [
    "print(random_tensor_2d)\n",
    "print(random_tensor_3d)\n",
    "print(random_tensor_4d)\n"
   ]
  },
  {
   "cell_type": "code",
   "execution_count": 16,
   "id": "ad94e8b1",
   "metadata": {},
   "outputs": [
    {
     "name": "stdout",
     "output_type": "stream",
     "text": [
      "2\n",
      "3\n",
      "4\n"
     ]
    }
   ],
   "source": [
    "print(random_tensor_2d.ndim)\n",
    "print(random_tensor_3d.ndim)\n",
    "print(random_tensor_4d.ndim)\n",
    "\n",
    "##sp from this code, it means we specify the dimension of the "
   ]
  },
  {
   "cell_type": "markdown",
   "id": "e5eb6300",
   "metadata": {},
   "source": [
    "### iii.Generating Zeros and Ones"
   ]
  },
  {
   "cell_type": "code",
   "execution_count": 17,
   "id": "4700d57f",
   "metadata": {},
   "outputs": [
    {
     "name": "stdout",
     "output_type": "stream",
     "text": [
      "tensor([[0., 0., 0., 0.],\n",
      "        [0., 0., 0., 0.],\n",
      "        [0., 0., 0., 0.]])\n"
     ]
    }
   ],
   "source": [
    "zeros= torch.zeros((3,4))\n",
    "print(zeros)"
   ]
  },
  {
   "cell_type": "code",
   "execution_count": 18,
   "id": "cd719776",
   "metadata": {},
   "outputs": [
    {
     "name": "stdout",
     "output_type": "stream",
     "text": [
      "tensor([[1., 1., 1., 1., 1., 1.],\n",
      "        [1., 1., 1., 1., 1., 1.],\n",
      "        [1., 1., 1., 1., 1., 1.],\n",
      "        [1., 1., 1., 1., 1., 1.],\n",
      "        [1., 1., 1., 1., 1., 1.]])\n"
     ]
    }
   ],
   "source": [
    "ones= torch.ones((5,6))\n",
    "print(ones)"
   ]
  },
  {
   "cell_type": "code",
   "execution_count": 19,
   "id": "1489f82f",
   "metadata": {},
   "outputs": [
    {
     "name": "stdout",
     "output_type": "stream",
     "text": [
      "tensor([ 5,  7,  9, 11, 13, 15, 17, 19])\n"
     ]
    }
   ],
   "source": [
    "arange_ten= torch.arange(5,20,2)\n",
    "print(arange_ten)\n",
    "\n"
   ]
  },
  {
   "cell_type": "code",
   "execution_count": 20,
   "id": "ef90e77a",
   "metadata": {},
   "outputs": [
    {
     "name": "stdout",
     "output_type": "stream",
     "text": [
      "tensor([0, 0, 0, 0, 0, 0, 0, 0])\n"
     ]
    }
   ],
   "source": [
    "##creating tensors like other tensors but with zeros \n",
    "\n",
    "ten_zeros= torch.zeros_like(arange_ten)\n",
    "print(ten_zeros)"
   ]
  },
  {
   "cell_type": "markdown",
   "id": "af450a18",
   "metadata": {},
   "source": [
    "### Tensor Data Types \n",
    "\n",
    "- 32: Single Precision\n",
    "- 16 bit: Half Precision\n",
    "\n",
    "Top 3 Errors in Pytorch and Deep Learning: \n",
    "\n",
    "1. Tensor not right datatype\n",
    "2. Tensor not right shape \n",
    "3. Tensor not on the right device"
   ]
  },
  {
   "cell_type": "code",
   "execution_count": 21,
   "id": "8be47e30",
   "metadata": {},
   "outputs": [
    {
     "data": {
      "text/plain": [
       "torch.float32"
      ]
     },
     "execution_count": 21,
     "metadata": {},
     "output_type": "execute_result"
    }
   ],
   "source": [
    "float_32_tensor= torch.tensor([2,3,4], dtype=torch.float32)\n",
    "float_32_tensor.dtype\n",
    "\n"
   ]
  },
  {
   "cell_type": "code",
   "execution_count": 22,
   "id": "0e7bfe98",
   "metadata": {},
   "outputs": [
    {
     "data": {
      "text/plain": [
       "torch.float16"
      ]
     },
     "execution_count": 22,
     "metadata": {},
     "output_type": "execute_result"
    }
   ],
   "source": [
    "## to change the dtype\n",
    "\n",
    "float_16_tensor= float_32_tensor.type(torch.float16)\n",
    "float_16_tensor.dtype"
   ]
  },
  {
   "cell_type": "markdown",
   "id": "83c8a1d9",
   "metadata": {},
   "source": [
    "### To get information from Tensor"
   ]
  },
  {
   "cell_type": "code",
   "execution_count": 23,
   "id": "c11ac73b",
   "metadata": {},
   "outputs": [
    {
     "data": {
      "text/plain": [
       "tensor([[0.5728, 0.3090, 0.1432, 0.8558, 0.1309],\n",
       "        [0.1110, 0.2848, 0.3558, 0.6111, 0.7350],\n",
       "        [0.3080, 0.8606, 0.3291, 0.8729, 0.9072],\n",
       "        [0.4452, 0.8196, 0.8538, 0.7883, 0.7453]])"
      ]
     },
     "execution_count": 23,
     "metadata": {},
     "output_type": "execute_result"
    }
   ],
   "source": [
    "## finding some details about tensor \n",
    "\n",
    "some_tensor= torch.rand((4,5))\n",
    "some_tensor"
   ]
  },
  {
   "cell_type": "markdown",
   "id": "026dde37",
   "metadata": {},
   "source": [
    "## personal exercise "
   ]
  },
  {
   "cell_type": "markdown",
   "id": "bb9b586b",
   "metadata": {},
   "source": [
    "### Q1 \n",
    "\n",
    "i. Create a random tensor 3 rows and 4 columns, \n",
    "\n",
    "ii. Extract information such as it's size, it's device, and it's shape \n",
    "\n",
    "iii. Change the device from CPU to GPU  \n",
    "\n",
    "iv. Also, change its dtype to float 16\n",
    "\n",
    "\n"
   ]
  },
  {
   "cell_type": "markdown",
   "id": "8fcc8c27",
   "metadata": {},
   "source": [
    "##### i. Creating the tensor"
   ]
  },
  {
   "cell_type": "code",
   "execution_count": 24,
   "id": "5a445b2a",
   "metadata": {},
   "outputs": [],
   "source": [
    "rand_tens= torch.rand([3,4])\n"
   ]
  },
  {
   "cell_type": "markdown",
   "id": "aec98676",
   "metadata": {},
   "source": [
    "#### ii. Extracting Requested Data "
   ]
  },
  {
   "cell_type": "code",
   "execution_count": 25,
   "id": "16a61389",
   "metadata": {},
   "outputs": [
    {
     "name": "stdout",
     "output_type": "stream",
     "text": [
      "The Shape of this tensor is torch.Size([3, 4])\n",
      "The Size of this tensor is torch.Size([3, 4])\n",
      "The device of this tensor is cpu\n",
      "The datatype of this tensor is torch.float32\n"
     ]
    }
   ],
   "source": [
    "print(f\"The Shape of this tensor is {rand_tens.shape}\")\n",
    "print(f\"The Size of this tensor is {rand_tens.size()}\")\n",
    "print(f\"The device of this tensor is {rand_tens.device}\")\n",
    "print(f\"The datatype of this tensor is {rand_tens.dtype}\")"
   ]
  },
  {
   "cell_type": "markdown",
   "id": "53848d78",
   "metadata": {},
   "source": [
    "#### iii. Changing from CPU to mps "
   ]
  },
  {
   "cell_type": "code",
   "execution_count": 26,
   "id": "e2398668",
   "metadata": {},
   "outputs": [],
   "source": [
    "mps= torch.device('mps')\n",
    "rand_tens_mps=rand_tens.to(mps)\n"
   ]
  },
  {
   "cell_type": "code",
   "execution_count": 27,
   "id": "e330389d",
   "metadata": {},
   "outputs": [
    {
     "name": "stdout",
     "output_type": "stream",
     "text": [
      "The device of this tensor is mps:0\n"
     ]
    }
   ],
   "source": [
    "print(f\"The device of this tensor is {rand_tens_mps.device}\")\n"
   ]
  },
  {
   "cell_type": "markdown",
   "id": "00bb8615",
   "metadata": {},
   "source": [
    "#### iv. Changing its Dtype"
   ]
  },
  {
   "cell_type": "code",
   "execution_count": 28,
   "id": "6eff311f",
   "metadata": {},
   "outputs": [
    {
     "data": {
      "text/plain": [
       "torch.float16"
      ]
     },
     "execution_count": 28,
     "metadata": {},
     "output_type": "execute_result"
    }
   ],
   "source": [
    "rand_tens=rand_tens.to(torch.float16)\n",
    "rand_tens.dtype"
   ]
  },
  {
   "cell_type": "markdown",
   "id": "44f9f78b",
   "metadata": {},
   "source": [
    "## Tensor Operations (Manipulating Tensors)\n",
    "\n",
    "We can perform the following operations with tensors:\n",
    "\n",
    "- Addition\n",
    "- Substraction\n",
    "- Multiplication\n",
    "- Division\n",
    "- Matrix Multiplicaton"
   ]
  },
  {
   "cell_type": "code",
   "execution_count": 29,
   "id": "aa420918",
   "metadata": {},
   "outputs": [
    {
     "data": {
      "text/plain": [
       "tensor([12, 13, 14, 20, 25])"
      ]
     },
     "execution_count": 29,
     "metadata": {},
     "output_type": "execute_result"
    }
   ],
   "source": [
    "## addition\n",
    "\n",
    "t1= torch.tensor([2,3,4,10,15])\n",
    "\n",
    "t1+10"
   ]
  },
  {
   "cell_type": "code",
   "execution_count": 30,
   "id": "46128540",
   "metadata": {},
   "outputs": [
    {
     "data": {
      "text/plain": [
       "tensor([22, 23, 24, 30, 35])"
      ]
     },
     "execution_count": 30,
     "metadata": {},
     "output_type": "execute_result"
    }
   ],
   "source": [
    "torch.add(t1, 20)"
   ]
  },
  {
   "cell_type": "code",
   "execution_count": 31,
   "id": "a4715a59",
   "metadata": {},
   "outputs": [
    {
     "data": {
      "text/plain": [
       "tensor([ 2,  3, -2, -3, -4])"
      ]
     },
     "execution_count": 31,
     "metadata": {},
     "output_type": "execute_result"
    }
   ],
   "source": [
    "### Substraction\n",
    "\n",
    "t2= torch.tensor([7,8,3,2,1])\n",
    "\n",
    "t2-5"
   ]
  },
  {
   "cell_type": "code",
   "execution_count": 32,
   "id": "1a387960",
   "metadata": {},
   "outputs": [
    {
     "data": {
      "text/plain": [
       "tensor([200, 300, 400, 500])"
      ]
     },
     "execution_count": 32,
     "metadata": {},
     "output_type": "execute_result"
    }
   ],
   "source": [
    "## multiplication\n",
    "\n",
    "t3= torch.tensor([10,15,20,25])\n",
    "\n",
    "t3*20"
   ]
  },
  {
   "cell_type": "code",
   "execution_count": 33,
   "id": "eb2d166d",
   "metadata": {},
   "outputs": [
    {
     "data": {
      "text/plain": [
       "tensor([100, 150, 200, 250])"
      ]
     },
     "execution_count": 33,
     "metadata": {},
     "output_type": "execute_result"
    }
   ],
   "source": [
    "torch.mul(t3,10)"
   ]
  },
  {
   "cell_type": "code",
   "execution_count": 34,
   "id": "a2bac8e0",
   "metadata": {},
   "outputs": [
    {
     "data": {
      "text/plain": [
       "tensor([6., 7., 9., 2.])"
      ]
     },
     "execution_count": 34,
     "metadata": {},
     "output_type": "execute_result"
    }
   ],
   "source": [
    "##division\n",
    "\n",
    "t4= torch.tensor([60,70,90,20], dtype=torch.int32)\n",
    "t4/10"
   ]
  },
  {
   "cell_type": "markdown",
   "id": "26bdf34a",
   "metadata": {},
   "source": [
    "#### Matrix Multiplication"
   ]
  },
  {
   "cell_type": "markdown",
   "id": "c62da685",
   "metadata": {},
   "source": [
    "From linear algebra, we have 2 or 3 types of matrix multiplication:\n",
    "\n",
    "- Hadaman product: element-wise multiplication where both matrices have the same shape \n",
    "- Matrix multiplication \n",
    "- Dot Product \n",
    "- Also note that for every shape (x,y), x is the rows, and y is the column-- this should help us later on "
   ]
  },
  {
   "cell_type": "code",
   "execution_count": 35,
   "id": "f3ffc2c6",
   "metadata": {},
   "outputs": [
    {
     "data": {
      "text/plain": [
       "tensor([[22, 16, 85],\n",
       "        [18, 16, 25],\n",
       "        [49, 64, 81]])"
      ]
     },
     "execution_count": 35,
     "metadata": {},
     "output_type": "execute_result"
    }
   ],
   "source": [
    "### Hamdaman Product: This is similar to the usual multiplication we do; however, the shape of both tensors should the same\n",
    "\n",
    "t11= torch.tensor([[2,4,5],[2,4,5], [7,8,9]])\n",
    "t12= torch.tensor([[11,4,17],[9,4,5], [7,8,9]])\n",
    "\n",
    "t11*t12"
   ]
  },
  {
   "cell_type": "code",
   "execution_count": 36,
   "id": "9d0cc93c",
   "metadata": {},
   "outputs": [],
   "source": [
    "import time"
   ]
  },
  {
   "cell_type": "code",
   "execution_count": 37,
   "id": "ead0256c",
   "metadata": {},
   "outputs": [
    {
     "data": {
      "text/plain": [
       "tensor([[93, 64, 99],\n",
       "        [93, 64, 99]])"
      ]
     },
     "execution_count": 37,
     "metadata": {},
     "output_type": "execute_result"
    }
   ],
   "source": [
    "### Matrix Multiplication: The column of the first matrix  must be equal to that of the row of the last matrix  \n",
    "\n",
    "t11= torch.tensor([[2,4,5],[2,4,5]])\n",
    "t12= torch.tensor([[11,4,17],[9,4,5],[7,8,9]])\n",
    "\n",
    "torch.matmul(t11,t12)"
   ]
  },
  {
   "cell_type": "markdown",
   "id": "c01b35ca",
   "metadata": {},
   "source": [
    "### Adjusting Tensor shapes with Transpose for Matrix Multiplications\n",
    "\n",
    "- ***Note***: A tranpose switches the rows and makes them columns and makes the column rows "
   ]
  },
  {
   "cell_type": "code",
   "execution_count": 38,
   "id": "55b2ec8e",
   "metadata": {},
   "outputs": [],
   "source": [
    "tensor_A= torch.tensor([[34,5,6,3], [3,2,5,6], [7,8,9,10]])\n",
    "tensor_B= torch.tensor([[4,5,6,3], [9,9,9,10], [12,8,9,10]])"
   ]
  },
  {
   "cell_type": "code",
   "execution_count": 39,
   "id": "689fbf6a",
   "metadata": {},
   "outputs": [],
   "source": [
    "##uncomment to run the code, it won't work, I am commenting it out to ensure I can run all cells later on\n",
    "\n",
    "##code below\n",
    "\n",
    "##torch.matmul(tensor_A,tensor_B)"
   ]
  },
  {
   "cell_type": "markdown",
   "id": "eed9c9b3",
   "metadata": {},
   "source": [
    "- We will try to transpose tensor_B to change it's shape to 4,3.\n",
    "- Remeber transpose makes the column rows and makes the rows column"
   ]
  },
  {
   "cell_type": "code",
   "execution_count": 40,
   "id": "993d40ae",
   "metadata": {},
   "outputs": [
    {
     "name": "stdout",
     "output_type": "stream",
     "text": [
      "tensor([[ 4,  5,  6,  3],\n",
      "        [ 9,  9,  9, 10],\n",
      "        [12,  8,  9, 10]])\n",
      "torch.Size([3, 4])\n"
     ]
    }
   ],
   "source": [
    "## printing tensor_B and its shape \n",
    "print(tensor_B)\n",
    "print(tensor_B.shape)\n"
   ]
  },
  {
   "cell_type": "code",
   "execution_count": 41,
   "id": "87b66b01",
   "metadata": {},
   "outputs": [
    {
     "name": "stdout",
     "output_type": "stream",
     "text": [
      "tensor([[ 4,  9, 12],\n",
      "        [ 5,  9,  8],\n",
      "        [ 6,  9,  9],\n",
      "        [ 3, 10, 10]])\n",
      "torch.Size([4, 3])\n"
     ]
    }
   ],
   "source": [
    "## printing tensor_B\n",
    "print(tensor_B.T)\n",
    "print(tensor_B.T.shape)"
   ]
  },
  {
   "cell_type": "code",
   "execution_count": null,
   "id": "d0481a90",
   "metadata": {},
   "outputs": [],
   "source": []
  },
  {
   "cell_type": "code",
   "execution_count": 42,
   "id": "4e9235ac",
   "metadata": {},
   "outputs": [
    {
     "data": {
      "text/plain": [
       "tensor([[206, 435, 532],\n",
       "        [ 70, 150, 157],\n",
       "        [152, 316, 329]])"
      ]
     },
     "execution_count": 42,
     "metadata": {},
     "output_type": "execute_result"
    }
   ],
   "source": [
    "##now we will multiply tensor_a and the transpose of tensor_B\n",
    "torch.matmul(tensor_A,tensor_B.T)"
   ]
  },
  {
   "cell_type": "markdown",
   "id": "ae3d0153",
   "metadata": {},
   "source": [
    "## Tensor Aggregation:\n",
    "\n",
    "In this section, we will take a look at how to find the: \n",
    "\n",
    "- Mean\n",
    "- Min\n",
    "- Max\n",
    "- Sum and other values from a tensor"
   ]
  },
  {
   "cell_type": "code",
   "execution_count": 43,
   "id": "da479090",
   "metadata": {},
   "outputs": [],
   "source": [
    "## Mean \n",
    "\n",
    "tensor_4_agg= torch.tensor([2,4,5,3], dtype=float)"
   ]
  },
  {
   "cell_type": "code",
   "execution_count": 44,
   "id": "572c8018",
   "metadata": {},
   "outputs": [
    {
     "name": "stdout",
     "output_type": "stream",
     "text": [
      "tensor(3.5000, dtype=torch.float64)\n"
     ]
    }
   ],
   "source": [
    "tensor_mean= torch.mean(tensor_4_agg)\n",
    "print(tensor_mean)"
   ]
  },
  {
   "cell_type": "code",
   "execution_count": 45,
   "id": "f7ed0a4f",
   "metadata": {},
   "outputs": [
    {
     "name": "stdout",
     "output_type": "stream",
     "text": [
      "tensor(5., dtype=torch.float64)\n"
     ]
    }
   ],
   "source": [
    "##finding the max\n",
    "\n",
    "tensor_max= torch.max(tensor_4_agg)\n",
    "print(tensor_max)"
   ]
  },
  {
   "cell_type": "code",
   "execution_count": 46,
   "id": "2ac937a5",
   "metadata": {},
   "outputs": [
    {
     "name": "stdout",
     "output_type": "stream",
     "text": [
      "tensor(14., dtype=torch.float64)\n"
     ]
    }
   ],
   "source": [
    "##finding the sum\n",
    "tensor_sum= torch.sum(tensor_4_agg)\n",
    "print(tensor_sum)"
   ]
  },
  {
   "cell_type": "markdown",
   "id": "becacba5",
   "metadata": {},
   "source": [
    "### Finding Positional Min (argmin) and Max (argmax)\n",
    "\n",
    "- The argmin gives us the position (index) of the least value from a list of probabilities \n",
    "- The argmax gives us the position (index)  of the highest value from a list of probabilities "
   ]
  },
  {
   "cell_type": "code",
   "execution_count": 47,
   "id": "4efd54f6",
   "metadata": {},
   "outputs": [
    {
     "data": {
      "text/plain": [
       "tensor([2., 4., 5., 3.], dtype=torch.float64)"
      ]
     },
     "execution_count": 47,
     "metadata": {},
     "output_type": "execute_result"
    }
   ],
   "source": [
    "##we will be using the tensor we created for aggregation for this \n",
    "\n",
    "tensor_4_agg"
   ]
  },
  {
   "cell_type": "code",
   "execution_count": 48,
   "id": "35f46d0e",
   "metadata": {},
   "outputs": [
    {
     "data": {
      "text/plain": [
       "tensor(2)"
      ]
     },
     "execution_count": 48,
     "metadata": {},
     "output_type": "execute_result"
    }
   ],
   "source": [
    "tensor_4_agg.argmax()"
   ]
  },
  {
   "cell_type": "code",
   "execution_count": 49,
   "id": "535a2445",
   "metadata": {},
   "outputs": [
    {
     "data": {
      "text/plain": [
       "tensor(0)"
      ]
     },
     "execution_count": 49,
     "metadata": {},
     "output_type": "execute_result"
    }
   ],
   "source": [
    "tensor_4_agg.argmin()"
   ]
  },
  {
   "cell_type": "markdown",
   "id": "7c7c951f",
   "metadata": {},
   "source": [
    "### Reshaping, stacking, Squeezing, and Unsqueezing Tensors \n",
    "\n",
    "- Reshaping: Reshapes an input tensor to a defined shape \n",
    "- View- Return a view of an input tensor of a certain shpe but keep the same memory as the original tensor \n",
    "- Stacking- combines multiple tensors on top of each other or side by side \n",
    "- Squeeze: Removes all 1 dimension from a tensor \n",
    "- Unsqeeze: Add a 1 dimension to a target tensor \n",
    "- Permute: Return a view of input with dimensions permuted (swapped) in a certain way "
   ]
  },
  {
   "cell_type": "markdown",
   "id": "55ecb583",
   "metadata": {},
   "source": [
    "#### i. Reshaping \n",
    "Allows us to change the dimension of our tensor. Usually the row and column specification of the resphase should be multiples of the size of the tensor"
   ]
  },
  {
   "cell_type": "code",
   "execution_count": 50,
   "id": "b8a7fd56",
   "metadata": {},
   "outputs": [
    {
     "data": {
      "text/plain": [
       "tensor([[34,  5,  6,  3],\n",
       "        [ 3,  2,  5,  6],\n",
       "        [ 7,  8,  9, 10]])"
      ]
     },
     "execution_count": 50,
     "metadata": {},
     "output_type": "execute_result"
    }
   ],
   "source": [
    "tensor_A"
   ]
  },
  {
   "cell_type": "code",
   "execution_count": 51,
   "id": "6f59ee2d",
   "metadata": {},
   "outputs": [
    {
     "data": {
      "text/plain": [
       "tensor([[34,  5,  6],\n",
       "        [ 3,  3,  2],\n",
       "        [ 5,  6,  7],\n",
       "        [ 8,  9, 10]])"
      ]
     },
     "execution_count": 51,
     "metadata": {},
     "output_type": "execute_result"
    }
   ],
   "source": [
    "torch.reshape(tensor_A, shape= (4,3))"
   ]
  },
  {
   "cell_type": "code",
   "execution_count": 52,
   "id": "f53104a6",
   "metadata": {},
   "outputs": [
    {
     "data": {
      "text/plain": [
       "tensor([[34,  5],\n",
       "        [ 6,  3],\n",
       "        [ 3,  2],\n",
       "        [ 5,  6],\n",
       "        [ 7,  8],\n",
       "        [ 9, 10]])"
      ]
     },
     "execution_count": 52,
     "metadata": {},
     "output_type": "execute_result"
    }
   ],
   "source": [
    " tensor_A.reshape(6,2)\n"
   ]
  },
  {
   "cell_type": "code",
   "execution_count": 53,
   "id": "576f7e8b",
   "metadata": {},
   "outputs": [
    {
     "data": {
      "text/plain": [
       "tensor([[34,  5,  6,  3,  3,  2,  5,  6,  7,  8,  9, 10]])"
      ]
     },
     "execution_count": 53,
     "metadata": {},
     "output_type": "execute_result"
    }
   ],
   "source": [
    " tensor_A.reshape(1,12)\n"
   ]
  },
  {
   "cell_type": "markdown",
   "id": "4f43de47",
   "metadata": {},
   "source": [
    "#### Stacking"
   ]
  },
  {
   "cell_type": "code",
   "execution_count": 54,
   "id": "d90250a9",
   "metadata": {},
   "outputs": [
    {
     "data": {
      "text/plain": [
       "tensor([[[34,  5,  6,  3],\n",
       "         [ 3,  2,  5,  6],\n",
       "         [ 7,  8,  9, 10]],\n",
       "\n",
       "        [[ 4,  5,  6,  3],\n",
       "         [ 9,  9,  9, 10],\n",
       "         [12,  8,  9, 10]]])"
      ]
     },
     "execution_count": 54,
     "metadata": {},
     "output_type": "execute_result"
    }
   ],
   "source": [
    "stack= torch.stack([tensor_A, tensor_B], dim=0)\n",
    "stack"
   ]
  },
  {
   "cell_type": "code",
   "execution_count": 55,
   "id": "28e925d0",
   "metadata": {},
   "outputs": [
    {
     "data": {
      "text/plain": [
       "tensor([[34,  5,  6,  3,  4,  5,  6,  3],\n",
       "        [ 3,  2,  5,  6,  9,  9,  9, 10],\n",
       "        [ 7,  8,  9, 10, 12,  8,  9, 10]])"
      ]
     },
     "execution_count": 55,
     "metadata": {},
     "output_type": "execute_result"
    }
   ],
   "source": [
    "h_stack= torch.hstack([tensor_A, tensor_B])\n",
    "h_stack"
   ]
  },
  {
   "cell_type": "code",
   "execution_count": 56,
   "id": "48bb065d",
   "metadata": {},
   "outputs": [
    {
     "data": {
      "text/plain": [
       "tensor([[34,  5,  6,  3],\n",
       "        [ 3,  2,  5,  6],\n",
       "        [ 7,  8,  9, 10],\n",
       "        [ 4,  5,  6,  3],\n",
       "        [ 9,  9,  9, 10],\n",
       "        [12,  8,  9, 10]])"
      ]
     },
     "execution_count": 56,
     "metadata": {},
     "output_type": "execute_result"
    }
   ],
   "source": [
    "V_stack=torch.vstack([tensor_A, tensor_B])\n",
    "V_stack"
   ]
  },
  {
   "cell_type": "markdown",
   "id": "ae191192",
   "metadata": {},
   "source": [
    "#### Squeezing and UnSqueezin"
   ]
  },
  {
   "cell_type": "code",
   "execution_count": 57,
   "id": "31a2a363",
   "metadata": {},
   "outputs": [
    {
     "data": {
      "text/plain": [
       "tensor([[34,  5,  6,  3],\n",
       "        [ 3,  2,  5,  6],\n",
       "        [ 7,  8,  9, 10]])"
      ]
     },
     "execution_count": 57,
     "metadata": {},
     "output_type": "execute_result"
    }
   ],
   "source": [
    "tensor_A"
   ]
  },
  {
   "cell_type": "code",
   "execution_count": 58,
   "id": "b515c1b4",
   "metadata": {},
   "outputs": [
    {
     "data": {
      "text/plain": [
       "tensor([[[34],\n",
       "         [ 5],\n",
       "         [ 6],\n",
       "         [ 3]],\n",
       "\n",
       "        [[ 3],\n",
       "         [ 2],\n",
       "         [ 5],\n",
       "         [ 6]],\n",
       "\n",
       "        [[ 7],\n",
       "         [ 8],\n",
       "         [ 9],\n",
       "         [10]]])"
      ]
     },
     "execution_count": 58,
     "metadata": {},
     "output_type": "execute_result"
    }
   ],
   "source": [
    "tensor_A.unsqueeze(dim=2)"
   ]
  },
  {
   "cell_type": "code",
   "execution_count": 59,
   "id": "665b95b4",
   "metadata": {},
   "outputs": [
    {
     "name": "stdout",
     "output_type": "stream",
     "text": [
      "The shape of tensor([[[[0.4283, 0.2889, 0.4224, 0.3571, 0.9577],\n",
      "          [0.1100, 0.2933, 0.9205, 0.5876, 0.1299],\n",
      "          [0.6729, 0.1028, 0.7876, 0.5540, 0.4653],\n",
      "          [0.2311, 0.2214, 0.3348, 0.4541, 0.2519]],\n",
      "\n",
      "         [[0.6310, 0.1707, 0.3122, 0.1976, 0.5466],\n",
      "          [0.0213, 0.9049, 0.8444, 0.9330, 0.2950],\n",
      "          [0.4773, 0.4787, 0.3440, 0.6732, 0.6593],\n",
      "          [0.1879, 0.4546, 0.1049, 0.7112, 0.7709]]]]) is: torch.Size([1, 2, 4, 5])\n"
     ]
    }
   ],
   "source": [
    "torch.manual_seed(23)\n",
    "t4= torch.rand(1,2,4,5)\n",
    "\n",
    "print(f\"The shape of {t4} is: {t4.shape}\")"
   ]
  },
  {
   "cell_type": "code",
   "execution_count": 60,
   "id": "6d40612d",
   "metadata": {},
   "outputs": [
    {
     "name": "stdout",
     "output_type": "stream",
     "text": [
      "The shape of tensor([[[0.4283, 0.2889, 0.4224, 0.3571, 0.9577],\n",
      "         [0.1100, 0.2933, 0.9205, 0.5876, 0.1299],\n",
      "         [0.6729, 0.1028, 0.7876, 0.5540, 0.4653],\n",
      "         [0.2311, 0.2214, 0.3348, 0.4541, 0.2519]],\n",
      "\n",
      "        [[0.6310, 0.1707, 0.3122, 0.1976, 0.5466],\n",
      "         [0.0213, 0.9049, 0.8444, 0.9330, 0.2950],\n",
      "         [0.4773, 0.4787, 0.3440, 0.6732, 0.6593],\n",
      "         [0.1879, 0.4546, 0.1049, 0.7112, 0.7709]]]) is: torch.Size([2, 4, 5])\n"
     ]
    }
   ],
   "source": [
    "squeezed_t4= t4.squeeze()\n",
    "\n",
    "print(f\"The shape of {squeezed_t4} is: {squeezed_t4.shape}\")"
   ]
  },
  {
   "cell_type": "markdown",
   "id": "7801d6f6",
   "metadata": {},
   "source": [
    "- From above, the shapes are different "
   ]
  },
  {
   "cell_type": "code",
   "execution_count": 61,
   "id": "dd416da6",
   "metadata": {},
   "outputs": [],
   "source": [
    "## unsqueeze: We will use the squeezed t4 as an exaample \n",
    "\n",
    "## the dim tells us the position to which we can add the new dimension of size 1, I will create an extra with the changed dim to demonstrate this \n",
    "\n",
    "unsqueezed_t4= squeezed_t4.unsqueeze(dim=3)\n",
    "unsqueezed_t4_2= squeezed_t4.unsqueeze(dim=2)\n",
    "\n",
    "\n"
   ]
  },
  {
   "cell_type": "code",
   "execution_count": 62,
   "id": "3fbad077",
   "metadata": {},
   "outputs": [
    {
     "name": "stdout",
     "output_type": "stream",
     "text": [
      "The shape of t4 is: torch.Size([1, 2, 4, 5])\n",
      "The shape of squeezed_t4 is: torch.Size([2, 4, 5])\n",
      "The shape of unsqueezed_t4 is: torch.Size([2, 4, 5, 1])\n",
      "The shape of unsqueezed_t4_2 is: torch.Size([2, 4, 1, 5])\n"
     ]
    }
   ],
   "source": [
    "##we will just print the shape to see how they shapes vary from the original tensor: \n",
    "\n",
    "print(f\"The shape of t4 is: {t4.shape}\")\n",
    "print(f\"The shape of squeezed_t4 is: {squeezed_t4.shape}\")\n",
    "print(f\"The shape of unsqueezed_t4 is: {unsqueezed_t4.shape}\")\n",
    "print(f\"The shape of unsqueezed_t4_2 is: {unsqueezed_t4_2.shape}\")\n",
    "\n"
   ]
  },
  {
   "cell_type": "markdown",
   "id": "a1fe40d9",
   "metadata": {},
   "source": [
    "#### Permutation "
   ]
  },
  {
   "cell_type": "markdown",
   "id": "937425d3",
   "metadata": {},
   "source": [
    "- Permutation allows us to change the orientation of the values of a matrix "
   ]
  },
  {
   "cell_type": "code",
   "execution_count": 63,
   "id": "7ce1f4b6",
   "metadata": {},
   "outputs": [],
   "source": [
    "torch.manual_seed(33) ## to ensure consistency\n",
    "\n",
    "x_original= torch.rand(size=(2,4,3))\n",
    "\n",
    "x_permute= torch.permute(x_original, (2,0,1))"
   ]
  },
  {
   "cell_type": "code",
   "execution_count": 64,
   "id": "ed5669ea",
   "metadata": {},
   "outputs": [
    {
     "name": "stdout",
     "output_type": "stream",
     "text": [
      "The original shape of x_original is torch.Size([2, 4, 3])\n",
      "The permute shape of x_original is torch.Size([3, 2, 4])\n"
     ]
    }
   ],
   "source": [
    "print(f\"The original shape of x_original is {x_original.shape}\")\n",
    "print(f\"The permute shape of x_original is {x_permute.shape}\")\n",
    "\n"
   ]
  },
  {
   "cell_type": "markdown",
   "id": "08bd6a9f",
   "metadata": {},
   "source": [
    "### Indexing\n",
    "\n",
    "- Indexing in Pytorch is simlar to indexing in Numpy"
   ]
  },
  {
   "cell_type": "code",
   "execution_count": 65,
   "id": "7051f6aa",
   "metadata": {},
   "outputs": [
    {
     "data": {
      "text/plain": [
       "(tensor([[[ 1,  2,  3],\n",
       "          [ 4,  5,  6],\n",
       "          [ 7,  8,  9],\n",
       "          [10, 11, 12]]]),\n",
       " torch.Size([1, 4, 3]))"
      ]
     },
     "execution_count": 65,
     "metadata": {},
     "output_type": "execute_result"
    }
   ],
   "source": [
    "x= torch.arange(1,13).reshape(1,4,3)\n",
    "\n",
    "x, x.shape"
   ]
  },
  {
   "cell_type": "markdown",
   "id": "06d93903",
   "metadata": {},
   "source": [
    "Extract the following:\n",
    "\n",
    "- First row \n",
    "- number 7, and 1\n",
    "- second and third row "
   ]
  },
  {
   "cell_type": "code",
   "execution_count": 66,
   "id": "66c6f0c9",
   "metadata": {},
   "outputs": [
    {
     "data": {
      "text/plain": [
       "tensor([[1, 2, 3]])"
      ]
     },
     "execution_count": 66,
     "metadata": {},
     "output_type": "execute_result"
    }
   ],
   "source": [
    "##indexing the first row \n",
    "\n",
    "x[:, 0]"
   ]
  },
  {
   "cell_type": "code",
   "execution_count": 67,
   "id": "1a63afd8",
   "metadata": {},
   "outputs": [
    {
     "data": {
      "text/plain": [
       "tensor(7)"
      ]
     },
     "execution_count": 67,
     "metadata": {},
     "output_type": "execute_result"
    }
   ],
   "source": [
    "##extracting numbers 7,\n",
    "\n",
    "x[0][2][0]"
   ]
  },
  {
   "cell_type": "code",
   "execution_count": 68,
   "id": "aaacfd49",
   "metadata": {},
   "outputs": [
    {
     "data": {
      "text/plain": [
       "tensor(11)"
      ]
     },
     "execution_count": 68,
     "metadata": {},
     "output_type": "execute_result"
    }
   ],
   "source": [
    "##extracting the number 11\n",
    "\n",
    "x[0][3][1]"
   ]
  },
  {
   "cell_type": "code",
   "execution_count": 69,
   "id": "a1238a2b",
   "metadata": {},
   "outputs": [
    {
     "data": {
      "text/plain": [
       "tensor([[[4, 5, 6],\n",
       "         [7, 8, 9]]])"
      ]
     },
     "execution_count": 69,
     "metadata": {},
     "output_type": "execute_result"
    }
   ],
   "source": [
    "##extracting the first two rows \n",
    "\n",
    "x[:,1:3]\n"
   ]
  },
  {
   "cell_type": "markdown",
   "id": "025bfd7e",
   "metadata": {},
   "source": [
    "### Pytorch, Tensors and Numpy \n",
    "\n",
    "This section focused on teaching how to get data from `numpy` and use it in `pytorch` or vice versa\n",
    "\n",
    "- To use `Numpy` in `Pytorch`, you use the: `torch.from_numpy(ndarray)`\n",
    "- To use `PyTorch` tensor, you use the `torch.Tensor.numpy()`"
   ]
  },
  {
   "cell_type": "code",
   "execution_count": 70,
   "id": "5f39f636",
   "metadata": {},
   "outputs": [
    {
     "name": "stdout",
     "output_type": "stream",
     "text": [
      "int64\n"
     ]
    }
   ],
   "source": [
    "import numpy as np\n",
    "\n",
    "np_array= np.array([[2,3,4,5], [2,4,23,2]])\n",
    "\n",
    "print(np_array.dtype)"
   ]
  },
  {
   "cell_type": "code",
   "execution_count": 71,
   "id": "f1021eab",
   "metadata": {},
   "outputs": [],
   "source": [
    "##changing a numpy array to a tensor \n",
    "\n",
    "np_array_tensor= torch.from_numpy(np_array)"
   ]
  },
  {
   "cell_type": "code",
   "execution_count": 72,
   "id": "648f3668",
   "metadata": {},
   "outputs": [
    {
     "name": "stdout",
     "output_type": "stream",
     "text": [
      "The datatype of the numpy array is int64.\n",
      "The datatype of the Pytorch tensor is torch.int64.\n"
     ]
    }
   ],
   "source": [
    "print(f\"The datatype of the numpy array is {np_array.dtype}.\")\n",
    "print(f\"The datatype of the Pytorch tensor is {np_array_tensor.dtype}.\")"
   ]
  },
  {
   "cell_type": "code",
   "execution_count": 73,
   "id": "4fd42430",
   "metadata": {},
   "outputs": [],
   "source": [
    "##changing a tensor to an array \n",
    "\n",
    "ten_to_np_array=torch.Tensor.numpy(tensor_A)"
   ]
  },
  {
   "cell_type": "code",
   "execution_count": 74,
   "id": "b15d2ea8",
   "metadata": {},
   "outputs": [
    {
     "name": "stdout",
     "output_type": "stream",
     "text": [
      "The datatype of the numpy array is torch.int64.\n",
      "The datatype of the Pytorch tensor is int64.\n"
     ]
    }
   ],
   "source": [
    "print(f\"The datatype of the numpy array is {tensor_A.dtype}.\")\n",
    "print(f\"The datatype of the Pytorch tensor is {ten_to_np_array.dtype}.\")"
   ]
  },
  {
   "cell_type": "markdown",
   "id": "cab8b840",
   "metadata": {},
   "source": [
    "### Pytorch Reproducability \n",
    "\n",
    "- If you noticed I used some sort of `manual_seed` in some of my codes where I used the rand variable. Well this is because, I didn't want the value changing each time I run my code\n",
    "- This is also important in cases where you want to share your code with others and ensure that you both have the same values  "
   ]
  },
  {
   "cell_type": "markdown",
   "id": "f1122cc0",
   "metadata": {},
   "source": []
  },
  {
   "cell_type": "code",
   "execution_count": 75,
   "id": "a20b780c",
   "metadata": {},
   "outputs": [],
   "source": [
    "torch.manual_seed(123)\n",
    "\n",
    "tensor_static= torch.randn(2,3,4)\n",
    "\n"
   ]
  },
  {
   "cell_type": "code",
   "execution_count": 76,
   "id": "7023ad77",
   "metadata": {},
   "outputs": [
    {
     "data": {
      "text/plain": [
       "tensor([[[ 0.3374, -0.1778, -0.3035, -0.5880],\n",
       "         [ 0.3486,  0.6603, -0.2196, -0.3792],\n",
       "         [-0.1606, -0.4015,  0.6957, -1.8061]],\n",
       "\n",
       "        [[ 1.8960, -0.1750,  1.3689, -1.6033],\n",
       "         [-0.7849, -1.4096, -0.4076,  0.7953],\n",
       "         [ 0.9985,  0.2212,  1.8319, -0.3378]]])"
      ]
     },
     "execution_count": 76,
     "metadata": {},
     "output_type": "execute_result"
    }
   ],
   "source": [
    "tensor_static"
   ]
  },
  {
   "cell_type": "code",
   "execution_count": 77,
   "id": "5bc2753c",
   "metadata": {},
   "outputs": [
    {
     "data": {
      "text/plain": [
       "tensor([[[ 0.9624,  0.2492, -0.4845, -2.0929],\n",
       "         [-0.8199, -0.4210, -0.9620,  1.2825],\n",
       "         [ 0.5146,  0.9938, -0.2587, -1.0826]],\n",
       "\n",
       "        [[-0.0444,  1.6236, -2.3229,  1.0878],\n",
       "         [ 0.6716,  0.6933, -0.9487, -0.0765],\n",
       "         [-0.1526,  0.1167,  0.4403, -1.4465]]])"
      ]
     },
     "execution_count": 77,
     "metadata": {},
     "output_type": "execute_result"
    }
   ],
   "source": [
    "torch.randn(2,3,4)\n"
   ]
  },
  {
   "cell_type": "code",
   "execution_count": 78,
   "id": "edec4411",
   "metadata": {},
   "outputs": [
    {
     "data": {
      "text/plain": [
       "tensor([[[ 0.2553, -0.5496,  1.0042,  0.8272],\n",
       "         [-0.3948,  0.4892, -0.2168, -1.7472],\n",
       "         [ 0.0475, -0.9239, -1.0607, -2.3244]],\n",
       "\n",
       "        [[ 1.2311, -1.0973, -0.9669,  0.6712],\n",
       "         [-0.9822,  0.2770,  0.6455, -0.8957],\n",
       "         [ 1.1124, -0.4168, -1.7106, -0.3290]]])"
      ]
     },
     "execution_count": 78,
     "metadata": {},
     "output_type": "execute_result"
    }
   ],
   "source": [
    "torch.randn(2,3,4)\n"
   ]
  },
  {
   "cell_type": "code",
   "execution_count": 79,
   "id": "87d64341",
   "metadata": {},
   "outputs": [
    {
     "data": {
      "text/plain": [
       "tensor([[[ 0.3374, -0.1778, -0.3035, -0.5880],\n",
       "         [ 0.3486,  0.6603, -0.2196, -0.3792],\n",
       "         [-0.1606, -0.4015,  0.6957, -1.8061]],\n",
       "\n",
       "        [[ 1.8960, -0.1750,  1.3689, -1.6033],\n",
       "         [-0.7849, -1.4096, -0.4076,  0.7953],\n",
       "         [ 0.9985,  0.2212,  1.8319, -0.3378]]])"
      ]
     },
     "execution_count": 79,
     "metadata": {},
     "output_type": "execute_result"
    }
   ],
   "source": [
    "tensor_static"
   ]
  },
  {
   "cell_type": "markdown",
   "id": "07cadf8d",
   "metadata": {},
   "source": [
    "### Summary \n",
    "- So, we can see the tensor-static stays the same \n",
    "- But the second and third changes \n",
    "- The `torch.manual_seed` only affects the cell it is in "
   ]
  },
  {
   "cell_type": "markdown",
   "id": "deb555b6",
   "metadata": {},
   "source": [
    "### Accessing GPU In PyTorch "
   ]
  },
  {
   "cell_type": "code",
   "execution_count": null,
   "id": "66f638a2",
   "metadata": {},
   "outputs": [],
   "source": [
    "### Creating some tensors and setting them to the device \n",
    "\n",
    "def create_torch_tensors(device):\n",
    "    x= torch.rand((10000, 10000), dtype=torch.float32)\n",
    "    y= torch.rand((10000, 10000), dtype=torch.float32)\n",
    "    x= x.to(device)\n",
    "    y= y.to(device)\n",
    "\n",
    "    return x,y "
   ]
  },
  {
   "cell_type": "markdown",
   "id": "1476febd",
   "metadata": {},
   "source": []
  },
  {
   "cell_type": "code",
   "execution_count": null,
   "id": "50303a26",
   "metadata": {},
   "outputs": [],
   "source": [
    "##setting the cpu as my device \n",
    "device= torch.device(\"cpu\")\n",
    "x,y= create_torch_tensors(device)"
   ]
  },
  {
   "cell_type": "code",
   "execution_count": null,
   "id": "e269761f",
   "metadata": {},
   "outputs": [
    {
     "name": "stdout",
     "output_type": "stream",
     "text": [
      "19.1 ms ± 740 μs per loop (mean ± std. dev. of 7 runs, 1 loop each)\n"
     ]
    }
   ],
   "source": [
    "##perfoming matrix multiplication with cpu\n",
    "%%timeit\n",
    "x*y"
   ]
  },
  {
   "cell_type": "code",
   "execution_count": null,
   "id": "832373dd",
   "metadata": {},
   "outputs": [],
   "source": [
    "##setting GPU as device \n",
    "device= torch.device(\"mps\")\n",
    "x,y= create_torch_tensors(device)\n"
   ]
  },
  {
   "cell_type": "code",
   "execution_count": null,
   "id": "8d12763c",
   "metadata": {},
   "outputs": [
    {
     "name": "stdout",
     "output_type": "stream",
     "text": [
      "9.41 ms ± 43.8 μs per loop (mean ± std. dev. of 7 runs, 100 loops each)\n"
     ]
    }
   ],
   "source": [
    "##performing matrix multiplication with GPU \n",
    "%%timeit\n",
    "x*y"
   ]
  },
  {
   "cell_type": "code",
   "execution_count": 89,
   "id": "9225b1a1",
   "metadata": {},
   "outputs": [
    {
     "data": {
      "text/plain": [
       "True"
      ]
     },
     "execution_count": 89,
     "metadata": {},
     "output_type": "execute_result"
    }
   ],
   "source": [
    "##Check for GPU access with Pytorch \n",
    "\n",
    "torch.backends.mps.is_built()"
   ]
  },
  {
   "cell_type": "code",
   "execution_count": 90,
   "id": "2db9d97f",
   "metadata": {},
   "outputs": [
    {
     "name": "stdout",
     "output_type": "stream",
     "text": [
      "Using device: mps\n"
     ]
    }
   ],
   "source": [
    "## setting my mps as device\n",
    "\n",
    "device = torch.device(\"mps\") if torch.backends.mps.is_available() else torch.device(\"cpu\")\n",
    "print(f\"Using device: {device}\")"
   ]
  },
  {
   "cell_type": "code",
   "execution_count": null,
   "id": "fdbd6065",
   "metadata": {},
   "outputs": [],
   "source": []
  }
 ],
 "metadata": {
  "kernelspec": {
   "display_name": ".venv",
   "language": "python",
   "name": "python3"
  },
  "language_info": {
   "codemirror_mode": {
    "name": "ipython",
    "version": 3
   },
   "file_extension": ".py",
   "mimetype": "text/x-python",
   "name": "python",
   "nbconvert_exporter": "python",
   "pygments_lexer": "ipython3",
   "version": "3.12.5"
  }
 },
 "nbformat": 4,
 "nbformat_minor": 5
}
