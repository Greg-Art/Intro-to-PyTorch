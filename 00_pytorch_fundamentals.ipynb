{
 "cells": [
  {
   "cell_type": "markdown",
   "id": "51b067ae",
   "metadata": {},
   "source": [
    "### 1. Environment Verification \n",
    "\n"
   ]
  },
  {
   "cell_type": "code",
   "execution_count": 1,
   "id": "3e91c11a",
   "metadata": {},
   "outputs": [
    {
     "name": "stdout",
     "output_type": "stream",
     "text": [
      "PyTorch version: 2.6.0\n",
      "MPS backend built?   True\n",
      "MPS available?       True\n",
      "Tensor device: mps:0\n"
     ]
    }
   ],
   "source": [
    "import torch\n",
    "print(\"PyTorch version:\", torch.__version__)\n",
    "print(\"MPS backend built?  \", torch.backends.mps.is_built())\n",
    "print(\"MPS available?      \", torch.backends.mps.is_available())\n",
    "\n",
    "# quick device test\n",
    "device = torch.device(\"mps\")\n",
    "x = torch.randn(2,2).to(device)\n",
    "print(\"Tensor device:\", x.device)"
   ]
  },
  {
   "cell_type": "markdown",
   "id": "0c91540c",
   "metadata": {},
   "source": [
    "### 2. Device‐Selection Boilerplate \n",
    "\n"
   ]
  },
  {
   "cell_type": "code",
   "execution_count": 2,
   "id": "f2ed5120",
   "metadata": {},
   "outputs": [
    {
     "name": "stdout",
     "output_type": "stream",
     "text": [
      "Running on MPS (GPU)\n"
     ]
    }
   ],
   "source": [
    "import torch\n",
    "\n",
    "# 1) Check for MPS support (Apple GPU)\n",
    "if torch.backends.mps.is_available():\n",
    "    device = torch.device(\"mps\")    # GPU\n",
    "    print(\"Running on MPS (GPU)\")\n",
    "else:\n",
    "    device = torch.device(\"cpu\")    # CPU\n",
    "    print(\"Running on CPU\")\n",
    "\n"
   ]
  },
  {
   "cell_type": "code",
   "execution_count": 5,
   "id": "d4b88322",
   "metadata": {},
   "outputs": [
    {
     "name": "stdout",
     "output_type": "stream",
     "text": [
      "tensor([[0.4818, 0.8231, 0.8704],\n",
      "        [0.3022, 0.5251, 0.7946],\n",
      "        [0.7323, 0.8318, 0.7590],\n",
      "        [0.2293, 0.3351, 0.1691],\n",
      "        [0.9923, 0.7492, 0.0751]])\n"
     ]
    }
   ],
   "source": [
    "## testing torch \n",
    "\n",
    "x= torch.rand(5,3)\n",
    "print(x)"
   ]
  },
  {
   "cell_type": "markdown",
   "id": "b56a5210",
   "metadata": {},
   "source": [
    "### Importing relevant libraries \n"
   ]
  },
  {
   "cell_type": "code",
   "execution_count": 4,
   "id": "12792d1a",
   "metadata": {},
   "outputs": [],
   "source": [
    "import pandas as pd \n",
    "import numpy \n",
    "import matplotlib.pyplot"
   ]
  },
  {
   "cell_type": "markdown",
   "id": "19041663",
   "metadata": {},
   "source": [
    "### Introduction to Tensors "
   ]
  },
  {
   "cell_type": "markdown",
   "id": "f2383678",
   "metadata": {},
   "source": [
    "#### i. Creating Tensors Manually"
   ]
  },
  {
   "cell_type": "code",
   "execution_count": null,
   "id": "acb05786",
   "metadata": {},
   "outputs": [],
   "source": []
  },
  {
   "cell_type": "markdown",
   "id": "52242787",
   "metadata": {},
   "source": [
    "A tensor is a numeric representation of data. In python, we have quite a variety of tensors:\n",
    "\n",
    "- Scalar: These a zero dimension arrays or they have only magnitude \n",
    "- Vectors: These are 1-day array or these have magnitude and direction\n",
    "- Matrix: These are 2-d arrays or these are linear transformations or moves in the X and Y direction or even 3d coordinates sometime\n",
    "- Tensors: While the above are tensors, we usually refer to tensors are multi-dimensional arrays \n",
    "\n",
    "We will take a look at how to create each in Pytorch and we usually create this using torch.tensor()"
   ]
  },
  {
   "cell_type": "code",
   "execution_count": 39,
   "id": "d82055cf",
   "metadata": {},
   "outputs": [],
   "source": [
    "## creating a scalar \n",
    "\n",
    "scalar= torch.tensor(7)"
   ]
  },
  {
   "cell_type": "code",
   "execution_count": 40,
   "id": "4b74cc97",
   "metadata": {},
   "outputs": [
    {
     "name": "stdout",
     "output_type": "stream",
     "text": [
      "The value of the scalar is 7\n",
      "The item present in the scalar is 7\n",
      "The dimension of the scalar is 0\n"
     ]
    }
   ],
   "source": [
    "\n",
    "print(f\"The value of the scalar is {scalar}\")\n",
    "print(f\"The item present in the scalar is {scalar.item()}\")\n",
    "print(f\"The dimension of the scalar is {scalar.ndim}\")"
   ]
  },
  {
   "cell_type": "code",
   "execution_count": 41,
   "id": "7b30add3",
   "metadata": {},
   "outputs": [],
   "source": [
    "## creating a vector \n",
    "\n",
    "vector= torch.tensor([7,7])\n"
   ]
  },
  {
   "cell_type": "code",
   "execution_count": 42,
   "id": "d76fe8c0",
   "metadata": {},
   "outputs": [
    {
     "name": "stdout",
     "output_type": "stream",
     "text": [
      "The value of the vector is [7, 7]\n",
      "The dimension of the vector is 1\n",
      "The shape of the vector is torch.Size([2])\n"
     ]
    }
   ],
   "source": [
    "\n",
    "print(f\"The value of the vector is {vector.tolist()}\")\n",
    "print(f\"The dimension of the vector is {vector.ndim}\")\n",
    "print(f\"The shape of the vector is {vector.shape}\")\n",
    "\n"
   ]
  },
  {
   "cell_type": "code",
   "execution_count": 43,
   "id": "63f7d1c5",
   "metadata": {},
   "outputs": [],
   "source": [
    "##creating MATRIX\n",
    "\n",
    "MATRIX= torch.tensor([[7,9], [10,11]])\n",
    "\n",
    "\n"
   ]
  },
  {
   "cell_type": "code",
   "execution_count": 44,
   "id": "c1750bd8",
   "metadata": {},
   "outputs": [
    {
     "name": "stdout",
     "output_type": "stream",
     "text": [
      "The value of the vector is tensor([[ 7,  9],\n",
      "        [10, 11]])\n",
      "The dimension of the vector is 2\n",
      "The shape of the  matrix is torch.Size([2, 2])\n"
     ]
    }
   ],
   "source": [
    "\n",
    "print(f\"The value of the vector is {MATRIX}\")\n",
    "print(f\"The dimension of the vector is {MATRIX.ndim}\")\n",
    "print(f\"The shape of the  matrix is {MATRIX.shape}\")"
   ]
  },
  {
   "cell_type": "code",
   "execution_count": 45,
   "id": "d556de53",
   "metadata": {},
   "outputs": [
    {
     "data": {
      "text/plain": [
       "tensor([10, 11])"
      ]
     },
     "execution_count": 45,
     "metadata": {},
     "output_type": "execute_result"
    }
   ],
   "source": [
    "MATRIX[1]"
   ]
  },
  {
   "cell_type": "code",
   "execution_count": 54,
   "id": "c13d53f3",
   "metadata": {},
   "outputs": [],
   "source": [
    "###TENSOR\n",
    "\n",
    "TENSOR= torch.tensor([[[1,2,3,4,],[5,6,7,8],[9,10,11,2]]])"
   ]
  },
  {
   "cell_type": "code",
   "execution_count": 59,
   "id": "8d0f6b53",
   "metadata": {},
   "outputs": [
    {
     "name": "stdout",
     "output_type": "stream",
     "text": [
      "The value of the vector is tensor([[[ 1,  2,  3,  4],\n",
      "         [ 5,  6,  7,  8],\n",
      "         [ 9, 10, 11,  2]]])\n",
      "The dimension of the vector is 3\n",
      "The shape of the  matrix is torch.Size([1, 3, 4])\n"
     ]
    }
   ],
   "source": [
    "print(f\"The value of the vector is {TENSOR}\")\n",
    "print(f\"The dimension of the vector is {TENSOR.ndim}\")\n",
    "print(f\"The shape of the  matrix is {TENSOR.shape}\")\n"
   ]
  },
  {
   "cell_type": "markdown",
   "id": "76c389c0",
   "metadata": {},
   "source": [
    "#### ii. Generating Random Tensors\n",
    "\n",
    "- This is important as in neural networks, this allows us to assign random weights to our nerual networks, and then adjust the random numbers to better represent the data\n",
    "- To create a random tensor, we use the torch.rand and we spcify the number of rows, columns, depth(if 3d) and others with the numbers you input separated by a comma. \n",
    "- Please note, while creating your random tensors, the more numbers separated by a comma, the more dimension you add"
   ]
  },
  {
   "cell_type": "code",
   "execution_count": 65,
   "id": "34fc8a47",
   "metadata": {},
   "outputs": [],
   "source": [
    "##creating the random tensor in various dimensions\n",
    "\n",
    "random_tensor_2d= torch.rand(3,4)\n",
    "random_tensor_3d= torch.rand(3,4,4)\n",
    "random_tensor_4d= torch.rand(3,4,4,5)"
   ]
  },
  {
   "cell_type": "code",
   "execution_count": null,
   "id": "b40aeeef",
   "metadata": {},
   "outputs": [
    {
     "name": "stdout",
     "output_type": "stream",
     "text": [
      "tensor([[0.7945, 0.5088, 0.6401, 0.2123],\n",
      "        [0.0668, 0.0775, 0.5496, 0.4370],\n",
      "        [0.8746, 0.8207, 0.6436, 0.2824]])\n",
      "tensor([[[0.7361, 0.5814, 0.5717, 0.1909],\n",
      "         [0.3999, 0.7976, 0.9136, 0.2951],\n",
      "         [0.4707, 0.6237, 0.0490, 0.1563],\n",
      "         [0.7508, 0.0609, 0.8108, 0.4064]],\n",
      "\n",
      "        [[0.2171, 0.7884, 0.8488, 0.3094],\n",
      "         [0.8159, 0.2981, 0.1114, 0.4722],\n",
      "         [0.4591, 0.0801, 0.6409, 0.0837],\n",
      "         [0.7682, 0.8262, 0.7094, 0.8126]],\n",
      "\n",
      "        [[0.2351, 0.8312, 0.0132, 0.7684],\n",
      "         [0.7529, 0.5908, 0.0025, 0.1607],\n",
      "         [0.7540, 0.6242, 0.2675, 0.2648],\n",
      "         [0.1019, 0.1110, 0.3880, 0.7250]]])\n",
      "tensor([[[[0.3453, 0.1850, 0.4817, 0.5419, 0.9900],\n",
      "          [0.9971, 0.8753, 0.7412, 0.2130, 0.8499],\n",
      "          [0.9238, 0.2675, 0.1219, 0.8999, 0.2065],\n",
      "          [0.9086, 0.6288, 0.2271, 0.5154, 0.8572]],\n",
      "\n",
      "         [[0.6787, 0.9269, 0.1151, 0.0056, 0.2645],\n",
      "          [0.2420, 0.6216, 0.8785, 0.0785, 0.8698],\n",
      "          [0.6257, 0.7316, 0.3140, 0.6436, 0.6856],\n",
      "          [0.6455, 0.0871, 0.6607, 0.8611, 0.4604]],\n",
      "\n",
      "         [[0.9481, 0.8083, 0.0139, 0.8808, 0.3665],\n",
      "          [0.8091, 0.5226, 0.2604, 0.1369, 0.2099],\n",
      "          [0.9397, 0.6347, 0.3065, 0.1587, 0.5879],\n",
      "          [0.3110, 0.2273, 0.0978, 0.1028, 0.7918]],\n",
      "\n",
      "         [[0.6134, 0.8002, 0.4332, 0.0632, 0.9228],\n",
      "          [0.0433, 0.7877, 0.3927, 0.2741, 0.8805],\n",
      "          [0.0034, 0.2954, 0.8790, 0.7284, 0.3576],\n",
      "          [0.7687, 0.3474, 0.2453, 0.2148, 0.8259]]],\n",
      "\n",
      "\n",
      "        [[[0.5760, 0.8180, 0.6845, 0.3302, 0.0825],\n",
      "          [0.3231, 0.8933, 0.3328, 0.1556, 0.9787],\n",
      "          [0.9891, 0.5162, 0.3317, 0.7532, 0.3066],\n",
      "          [0.7354, 0.7576, 0.8105, 0.8062, 0.0137]],\n",
      "\n",
      "         [[0.0131, 0.5365, 0.8294, 0.2543, 0.1177],\n",
      "          [0.5732, 0.5792, 0.3979, 0.9680, 0.0759],\n",
      "          [0.7686, 0.3404, 0.3322, 0.1926, 0.8463],\n",
      "          [0.9513, 0.3202, 0.8308, 0.4673, 0.1072]],\n",
      "\n",
      "         [[0.5814, 0.0333, 0.7437, 0.3519, 0.1451],\n",
      "          [0.7290, 0.8272, 0.4329, 0.9457, 0.0705],\n",
      "          [0.7864, 0.8634, 0.7568, 0.5383, 0.1117],\n",
      "          [0.3898, 0.3042, 0.4160, 0.1182, 0.8020]],\n",
      "\n",
      "         [[0.8439, 0.6222, 0.3790, 0.3430, 0.4235],\n",
      "          [0.6794, 0.5320, 0.5959, 0.5917, 0.2022],\n",
      "          [0.7555, 0.2876, 0.6456, 0.5067, 0.1113],\n",
      "          [0.5287, 0.9194, 0.7589, 0.3663, 0.1539]]],\n",
      "\n",
      "\n",
      "        [[[0.3157, 0.5998, 0.4936, 0.7600, 0.0156],\n",
      "          [0.7414, 0.1600, 0.8462, 0.4188, 0.7234],\n",
      "          [0.7441, 0.6652, 0.9358, 0.6854, 0.8433],\n",
      "          [0.6806, 0.3604, 0.3200, 0.5214, 0.4252]],\n",
      "\n",
      "         [[0.0323, 0.4761, 0.6616, 0.7596, 0.9574],\n",
      "          [0.7136, 0.5218, 0.7441, 0.0257, 0.5631],\n",
      "          [0.0106, 0.0092, 0.6523, 0.3185, 0.6143],\n",
      "          [0.9863, 0.4661, 0.4189, 0.2943, 0.8406]],\n",
      "\n",
      "         [[0.8796, 0.6808, 0.5957, 0.9566, 0.4242],\n",
      "          [0.8829, 0.3357, 0.9517, 0.1273, 0.0272],\n",
      "          [0.9434, 0.4874, 0.0806, 0.7561, 0.8695],\n",
      "          [0.3293, 0.1811, 0.2340, 0.0510, 0.9010]],\n",
      "\n",
      "         [[0.7031, 0.7760, 0.8951, 0.1646, 0.4483],\n",
      "          [0.3962, 0.2174, 0.0917, 0.0560, 0.3486],\n",
      "          [0.0127, 0.3546, 0.4183, 0.7230, 0.5649],\n",
      "          [0.0097, 0.4656, 0.9577, 0.7786, 0.9217]]]])\n"
     ]
    }
   ],
   "source": [
    "print(random_tensor_2d)\n",
    "print(random_tensor_3d)\n",
    "print(random_tensor_4d)\n"
   ]
  },
  {
   "cell_type": "code",
   "execution_count": 67,
   "id": "ad94e8b1",
   "metadata": {},
   "outputs": [
    {
     "name": "stdout",
     "output_type": "stream",
     "text": [
      "2\n",
      "3\n",
      "4\n"
     ]
    }
   ],
   "source": [
    "print(random_tensor_2d.ndim)\n",
    "print(random_tensor_3d.ndim)\n",
    "print(random_tensor_4d.ndim)\n",
    "\n",
    "##sp from this code, it means we specify the dimension of the "
   ]
  },
  {
   "cell_type": "markdown",
   "id": "e5eb6300",
   "metadata": {},
   "source": [
    "### iii.Generating Zeros and Ones"
   ]
  },
  {
   "cell_type": "code",
   "execution_count": 71,
   "id": "4700d57f",
   "metadata": {},
   "outputs": [
    {
     "name": "stdout",
     "output_type": "stream",
     "text": [
      "tensor([[0., 0., 0., 0.],\n",
      "        [0., 0., 0., 0.],\n",
      "        [0., 0., 0., 0.]])\n"
     ]
    }
   ],
   "source": [
    "zeros= torch.zeros((3,4))\n",
    "print(zeros)"
   ]
  },
  {
   "cell_type": "code",
   "execution_count": 72,
   "id": "cd719776",
   "metadata": {},
   "outputs": [
    {
     "name": "stdout",
     "output_type": "stream",
     "text": [
      "tensor([[1., 1., 1., 1., 1., 1.],\n",
      "        [1., 1., 1., 1., 1., 1.],\n",
      "        [1., 1., 1., 1., 1., 1.],\n",
      "        [1., 1., 1., 1., 1., 1.],\n",
      "        [1., 1., 1., 1., 1., 1.]])\n"
     ]
    }
   ],
   "source": [
    "ones= torch.ones((5,6))\n",
    "print(ones)"
   ]
  },
  {
   "cell_type": "code",
   "execution_count": null,
   "id": "1489f82f",
   "metadata": {},
   "outputs": [
    {
     "name": "stdout",
     "output_type": "stream",
     "text": [
      "tensor([ 5,  7,  9, 11, 13, 15, 17, 19])\n"
     ]
    }
   ],
   "source": [
    "arange_ten= torch.arange(5,20,2)\n",
    "print(arange_ten)\n",
    "\n"
   ]
  },
  {
   "cell_type": "code",
   "execution_count": 78,
   "id": "ef90e77a",
   "metadata": {},
   "outputs": [
    {
     "name": "stdout",
     "output_type": "stream",
     "text": [
      "tensor([0, 0, 0, 0, 0, 0, 0, 0])\n"
     ]
    }
   ],
   "source": [
    "##creating tensors like other tensors but with zeros \n",
    "\n",
    "ten_zeros= torch.zeros_like(arange_ten)\n",
    "print(ten_zeros)"
   ]
  },
  {
   "cell_type": "markdown",
   "id": "af450a18",
   "metadata": {},
   "source": [
    "### Tensor Data Types \n",
    "\n",
    "- 32: Single Precision\n",
    "- 16 bit: Half Precision\n",
    "\n",
    "Top 3 Errors in Pytorch and Deep Learning: \n",
    "\n",
    "1. Tensor not right datatype\n",
    "2. Tensor not right shape \n",
    "3. Tensor not on the right device"
   ]
  },
  {
   "cell_type": "code",
   "execution_count": 86,
   "id": "8be47e30",
   "metadata": {},
   "outputs": [
    {
     "data": {
      "text/plain": [
       "torch.float32"
      ]
     },
     "execution_count": 86,
     "metadata": {},
     "output_type": "execute_result"
    }
   ],
   "source": [
    "float_32_tensor= torch.tensor([2,3,4], dtype=torch.float32)\n",
    "float_32_tensor.dtype\n",
    "\n"
   ]
  },
  {
   "cell_type": "code",
   "execution_count": 88,
   "id": "0e7bfe98",
   "metadata": {},
   "outputs": [
    {
     "data": {
      "text/plain": [
       "torch.float16"
      ]
     },
     "execution_count": 88,
     "metadata": {},
     "output_type": "execute_result"
    }
   ],
   "source": [
    "## to change the dtype\n",
    "\n",
    "float_16_tensor= float_32_tensor.type(torch.float16)\n",
    "float_16_tensor.dtype"
   ]
  },
  {
   "cell_type": "markdown",
   "id": "83c8a1d9",
   "metadata": {},
   "source": [
    "### To get information from Tensor"
   ]
  },
  {
   "cell_type": "code",
   "execution_count": 90,
   "id": "c11ac73b",
   "metadata": {},
   "outputs": [
    {
     "data": {
      "text/plain": [
       "tensor([[0.5413, 0.9370, 0.0518, 0.3847, 0.9391],\n",
       "        [0.2870, 0.7553, 0.6051, 0.7492, 0.5664],\n",
       "        [0.0328, 0.0718, 0.6321, 0.4209, 0.9764],\n",
       "        [0.4567, 0.0847, 0.7013, 0.3506, 0.2286]])"
      ]
     },
     "execution_count": 90,
     "metadata": {},
     "output_type": "execute_result"
    }
   ],
   "source": [
    "## finding some details about tensor \n",
    "\n",
    "some_tensor= torch.rand((4,5))\n",
    "some_tensor"
   ]
  },
  {
   "cell_type": "markdown",
   "id": "026dde37",
   "metadata": {},
   "source": [
    "## personal exercise "
   ]
  },
  {
   "cell_type": "markdown",
   "id": "bb9b586b",
   "metadata": {},
   "source": [
    "### Q1 \n",
    "\n",
    "i. Create a random tensor 3 rows and 4 columns, \n",
    "\n",
    "ii. Extract information such as it's size, it's device, and it's shape \n",
    "\n",
    "iii. Change the device from CPU to GPU  \n",
    "\n",
    "iv. Also, change its dtype to float 16\n",
    "\n",
    "\n"
   ]
  },
  {
   "cell_type": "markdown",
   "id": "8fcc8c27",
   "metadata": {},
   "source": [
    "##### i. Creating the tensor"
   ]
  },
  {
   "cell_type": "code",
   "execution_count": null,
   "id": "5a445b2a",
   "metadata": {},
   "outputs": [],
   "source": [
    "rand_tens= torch.rand([3,4])\n"
   ]
  },
  {
   "cell_type": "markdown",
   "id": "aec98676",
   "metadata": {},
   "source": [
    "#### ii. Extracting Requested Data "
   ]
  },
  {
   "cell_type": "code",
   "execution_count": 93,
   "id": "16a61389",
   "metadata": {},
   "outputs": [
    {
     "name": "stdout",
     "output_type": "stream",
     "text": [
      "The Shape of this tensor is torch.Size([3, 4])\n",
      "The Size of this tensor is torch.Size([3, 4])\n",
      "The device of this tensor is cpu\n",
      "The datatype of this tensor is torch.float32\n"
     ]
    }
   ],
   "source": [
    "print(f\"The Shape of this tensor is {rand_tens.shape}\")\n",
    "print(f\"The Size of this tensor is {rand_tens.size()}\")\n",
    "print(f\"The device of this tensor is {rand_tens.device}\")\n",
    "print(f\"The datatype of this tensor is {rand_tens.dtype}\")"
   ]
  },
  {
   "cell_type": "markdown",
   "id": "53848d78",
   "metadata": {},
   "source": [
    "#### iii. Changing from CPU to mps "
   ]
  },
  {
   "cell_type": "code",
   "execution_count": 96,
   "id": "e2398668",
   "metadata": {},
   "outputs": [],
   "source": [
    "mps= torch.device('mps')\n",
    "rand_tens_mps=rand_tens.to(mps)\n"
   ]
  },
  {
   "cell_type": "code",
   "execution_count": 97,
   "id": "e330389d",
   "metadata": {},
   "outputs": [
    {
     "name": "stdout",
     "output_type": "stream",
     "text": [
      "The device of this tensor is mps:0\n"
     ]
    }
   ],
   "source": [
    "print(f\"The device of this tensor is {rand_tens_mps.device}\")\n"
   ]
  },
  {
   "cell_type": "markdown",
   "id": "00bb8615",
   "metadata": {},
   "source": [
    "#### iv. Changing its Dtype"
   ]
  },
  {
   "cell_type": "code",
   "execution_count": 102,
   "id": "6eff311f",
   "metadata": {},
   "outputs": [
    {
     "data": {
      "text/plain": [
       "torch.float16"
      ]
     },
     "execution_count": 102,
     "metadata": {},
     "output_type": "execute_result"
    }
   ],
   "source": [
    "rand_tens=rand_tens.to(torch.float16)\n",
    "rand_tens.dtype"
   ]
  },
  {
   "cell_type": "markdown",
   "id": "44f9f78b",
   "metadata": {},
   "source": [
    "## Tensor Operations (Manipulating Tensors)\n",
    "\n",
    "We can perform the following operations with tensors:\n",
    "\n",
    "- Addition\n",
    "- Substraction\n",
    "- Multiplication\n",
    "- Division\n",
    "- Matrix Multiplicaton"
   ]
  },
  {
   "cell_type": "code",
   "execution_count": 103,
   "id": "aa420918",
   "metadata": {},
   "outputs": [
    {
     "data": {
      "text/plain": [
       "tensor([12, 13, 14, 20, 25])"
      ]
     },
     "execution_count": 103,
     "metadata": {},
     "output_type": "execute_result"
    }
   ],
   "source": [
    "## addition\n",
    "\n",
    "t1= torch.tensor([2,3,4,10,15])\n",
    "\n",
    "t1+10"
   ]
  },
  {
   "cell_type": "code",
   "execution_count": 112,
   "id": "46128540",
   "metadata": {},
   "outputs": [
    {
     "data": {
      "text/plain": [
       "tensor([22, 23, 24, 30, 35])"
      ]
     },
     "execution_count": 112,
     "metadata": {},
     "output_type": "execute_result"
    }
   ],
   "source": [
    "torch.add(t1, 20)"
   ]
  },
  {
   "cell_type": "code",
   "execution_count": 105,
   "id": "a4715a59",
   "metadata": {},
   "outputs": [
    {
     "data": {
      "text/plain": [
       "tensor([ 2,  3, -2, -3, -4])"
      ]
     },
     "execution_count": 105,
     "metadata": {},
     "output_type": "execute_result"
    }
   ],
   "source": [
    "### Substraction\n",
    "\n",
    "t2= torch.tensor([7,8,3,2,1])\n",
    "\n",
    "t2-5"
   ]
  },
  {
   "cell_type": "code",
   "execution_count": 106,
   "id": "1a387960",
   "metadata": {},
   "outputs": [
    {
     "data": {
      "text/plain": [
       "tensor([200, 300, 400, 500])"
      ]
     },
     "execution_count": 106,
     "metadata": {},
     "output_type": "execute_result"
    }
   ],
   "source": [
    "## multiplication\n",
    "\n",
    "t3= torch.tensor([10,15,20,25])\n",
    "\n",
    "t3*20"
   ]
  },
  {
   "cell_type": "code",
   "execution_count": 111,
   "id": "eb2d166d",
   "metadata": {},
   "outputs": [
    {
     "data": {
      "text/plain": [
       "tensor([100, 150, 200, 250])"
      ]
     },
     "execution_count": 111,
     "metadata": {},
     "output_type": "execute_result"
    }
   ],
   "source": [
    "torch.mul(t3,10)"
   ]
  },
  {
   "cell_type": "code",
   "execution_count": 110,
   "id": "a2bac8e0",
   "metadata": {},
   "outputs": [
    {
     "data": {
      "text/plain": [
       "tensor([6., 7., 9., 2.])"
      ]
     },
     "execution_count": 110,
     "metadata": {},
     "output_type": "execute_result"
    }
   ],
   "source": [
    "##division\n",
    "\n",
    "t4= torch.tensor([60,70,90,20], dtype=torch.int32)\n",
    "t4/10"
   ]
  },
  {
   "cell_type": "markdown",
   "id": "26bdf34a",
   "metadata": {},
   "source": [
    "#### Matrix Multiplication"
   ]
  },
  {
   "cell_type": "markdown",
   "id": "c62da685",
   "metadata": {},
   "source": [
    "From linear algebra, we have 2 types of matrix multiplication:\n",
    "\n",
    "- Hadaman product: element-wise multiplication where both matrices have the same shape \n",
    "- Matrix multiplication \n",
    "- Dot Product "
   ]
  },
  {
   "cell_type": "code",
   "execution_count": 118,
   "id": "f3ffc2c6",
   "metadata": {},
   "outputs": [
    {
     "data": {
      "text/plain": [
       "tensor([[22, 16, 85],\n",
       "        [18, 16, 25],\n",
       "        [49, 64, 81]])"
      ]
     },
     "execution_count": 118,
     "metadata": {},
     "output_type": "execute_result"
    }
   ],
   "source": [
    "### Hamdaman Product: This is similar to the usual multiplication we do; however, the shape of both tensors should the same\n",
    "\n",
    "t11= torch.tensor([[2,4,5],[2,4,5], [7,8,9]])\n",
    "t12= torch.tensor([[11,4,17],[9,4,5], [7,8,9]])\n",
    "\n",
    "t11*t12"
   ]
  },
  {
   "cell_type": "code",
   "execution_count": 120,
   "id": "ead0256c",
   "metadata": {},
   "outputs": [
    {
     "data": {
      "text/plain": [
       "tensor([[ 93,  64,  99],\n",
       "        [ 93,  64,  99],\n",
       "        [212, 132, 240]])"
      ]
     },
     "execution_count": 120,
     "metadata": {},
     "output_type": "execute_result"
    }
   ],
   "source": [
    "### Matrix Multiplication\n",
    "\n",
    "t11= torch.tensor([[2,4,5],[2,4,5], [7,8,9]])\n",
    "t12= torch.tensor([[11,4,17],[9,4,5], [7,8,9]])\n",
    "\n",
    "torch.matmul(t11,t12)"
   ]
  },
  {
   "cell_type": "code",
   "execution_count": null,
   "id": "c01b35ca",
   "metadata": {},
   "outputs": [
    {
     "data": {
      "text/plain": [
       "device(type='cpu')"
      ]
     },
     "execution_count": 121,
     "metadata": {},
     "output_type": "execute_result"
    }
   ],
   "source": []
  },
  {
   "cell_type": "code",
   "execution_count": null,
   "id": "55b2ec8e",
   "metadata": {},
   "outputs": [],
   "source": []
  }
 ],
 "metadata": {
  "kernelspec": {
   "display_name": ".venv",
   "language": "python",
   "name": "python3"
  },
  "language_info": {
   "codemirror_mode": {
    "name": "ipython",
    "version": 3
   },
   "file_extension": ".py",
   "mimetype": "text/x-python",
   "name": "python",
   "nbconvert_exporter": "python",
   "pygments_lexer": "ipython3",
   "version": "3.12.5"
  }
 },
 "nbformat": 4,
 "nbformat_minor": 5
}
