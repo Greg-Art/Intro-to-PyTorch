{
 "cells": [
  {
   "cell_type": "markdown",
   "id": "a30a4d6d",
   "metadata": {},
   "source": [
    "In this section, we will take a look at the Pytorch Modelling Workflow:\n",
    "\n",
    "1. Prepare the Data By Turning it to Tensors\n",
    "2. Build a Model from Scratch or Pick a Pre-trained Model & Pick a Loss Function\n",
    "3. Fit The Model to Data\n",
    "4. Evaluate THe Model's Performance \n",
    "5. Improve Model Through Experimentation\n",
    "6. Save and Reload Model "
   ]
  },
  {
   "cell_type": "code",
   "execution_count": 1,
   "id": "b76c60cb",
   "metadata": {},
   "outputs": [],
   "source": [
    "##Importing relevant libraries \n",
    "\n",
    "import torch \n",
    "from torch import nn ##importing neural network \n",
    "import matplotlib.pyplot as plt "
   ]
  },
  {
   "cell_type": "code",
   "execution_count": 2,
   "id": "750a67da",
   "metadata": {},
   "outputs": [
    {
     "data": {
      "text/plain": [
       "'2.6.0'"
      ]
     },
     "execution_count": 2,
     "metadata": {},
     "output_type": "execute_result"
    }
   ],
   "source": [
    "torch.__version__"
   ]
  },
  {
   "cell_type": "markdown",
   "id": "8d6905bb",
   "metadata": {},
   "source": [
    "## 1. Preparing Data \n",
    "\n",
    "- We will use the linear regression formula to create the data\n",
    "- The formula is `y=mx+c`\n",
    "- We will create some known parameters to help us model the linear regression model for the data creation"
   ]
  },
  {
   "cell_type": "code",
   "execution_count": 3,
   "id": "5bacd992",
   "metadata": {},
   "outputs": [],
   "source": [
    "weight= 0.7 ## same as b in the formula \n",
    "bias= 0.3 ## same as c \n",
    "\n",
    "##creating the \n",
    "\n",
    "start= 0 \n",
    "end= 1 \n",
    "step= 0.02 \n",
    "X = torch.arange(start, end, step).unsqueeze(dim=1)\n",
    "\n",
    "y= weight * X + bias \n"
   ]
  },
  {
   "cell_type": "code",
   "execution_count": 5,
   "id": "6900e2a6",
   "metadata": {},
   "outputs": [
    {
     "data": {
      "text/plain": [
       "(tensor([[0.0000],\n",
       "         [0.0200],\n",
       "         [0.0400],\n",
       "         [0.0600],\n",
       "         [0.0800],\n",
       "         [0.1000],\n",
       "         [0.1200],\n",
       "         [0.1400],\n",
       "         [0.1600],\n",
       "         [0.1800]]),\n",
       " tensor([[0.3000],\n",
       "         [0.3140],\n",
       "         [0.3280],\n",
       "         [0.3420],\n",
       "         [0.3560],\n",
       "         [0.3700],\n",
       "         [0.3840],\n",
       "         [0.3980],\n",
       "         [0.4120],\n",
       "         [0.4260]]))"
      ]
     },
     "execution_count": 5,
     "metadata": {},
     "output_type": "execute_result"
    }
   ],
   "source": [
    "X[:10], y[:10]"
   ]
  },
  {
   "cell_type": "code",
   "execution_count": null,
   "id": "122e20bb",
   "metadata": {},
   "outputs": [
    {
     "data": {
      "text/plain": [
       "(50, 50)"
      ]
     },
     "execution_count": 6,
     "metadata": {},
     "output_type": "execute_result"
    }
   ],
   "source": [
    "len(X), len(y)"
   ]
  },
  {
   "cell_type": "markdown",
   "id": "d47517a7",
   "metadata": {},
   "source": [
    "### 1a. Splitting the Data into Training and Testing Sets "
   ]
  },
  {
   "cell_type": "code",
   "execution_count": 10,
   "id": "6721bb43",
   "metadata": {},
   "outputs": [],
   "source": [
    "##splitting our data using te 80/20 split \n",
    "\n",
    "X_train, y_train= X[0:40], y[0:40]\n",
    "\n",
    "X_test, y_test= X[40:], y[40:]"
   ]
  },
  {
   "cell_type": "code",
   "execution_count": 11,
   "id": "6073c4de",
   "metadata": {},
   "outputs": [
    {
     "data": {
      "text/plain": [
       "(40, 40, 10, 10)"
      ]
     },
     "execution_count": 11,
     "metadata": {},
     "output_type": "execute_result"
    }
   ],
   "source": [
    "len(X_train), len(y_train), len(X_test), len(y_test)"
   ]
  },
  {
   "cell_type": "markdown",
   "id": "c8a911d9",
   "metadata": {},
   "source": [
    "### 1b. Building a Function To Visualize Our Data \n",
    "\n",
    "- This is to allow us better visualize our data "
   ]
  },
  {
   "cell_type": "code",
   "execution_count": null,
   "id": "4d909a56",
   "metadata": {},
   "outputs": [],
   "source": []
  }
 ],
 "metadata": {
  "kernelspec": {
   "display_name": ".venv",
   "language": "python",
   "name": "python3"
  },
  "language_info": {
   "codemirror_mode": {
    "name": "ipython",
    "version": 3
   },
   "file_extension": ".py",
   "mimetype": "text/x-python",
   "name": "python",
   "nbconvert_exporter": "python",
   "pygments_lexer": "ipython3",
   "version": "3.12.5"
  }
 },
 "nbformat": 4,
 "nbformat_minor": 5
}
